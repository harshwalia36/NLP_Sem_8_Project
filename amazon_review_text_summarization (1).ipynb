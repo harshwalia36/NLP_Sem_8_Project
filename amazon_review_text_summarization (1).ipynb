{
  "metadata": {
    "kernelspec": {
      "language": "python",
      "display_name": "Python 3",
      "name": "python3"
    },
    "language_info": {
      "name": "python",
      "version": "3.7.12",
      "mimetype": "text/x-python",
      "codemirror_mode": {
        "name": "ipython",
        "version": 3
      },
      "pygments_lexer": "ipython3",
      "nbconvert_exporter": "python",
      "file_extension": ".py"
    },
    "colab": {
      "name": "amazon-review-text-summarization.ipynb",
      "provenance": [],
      "collapsed_sections": []
    },
    "accelerator": "GPU"
  },
  "nbformat_minor": 0,
  "nbformat": 4,
  "cells": [
    {
      "cell_type": "code",
      "source": [
        "from google.colab import drive\n",
        "drive.mount('/content/drive')"
      ],
      "metadata": {
        "colab": {
          "base_uri": "https://localhost:8080/"
        },
        "id": "FcfFuJ7eJeaF",
        "outputId": "476a56d0-5357-44d1-8df1-5d369c6b4657"
      },
      "execution_count": null,
      "outputs": [
        {
          "output_type": "stream",
          "name": "stdout",
          "text": [
            "Mounted at /content/drive\n"
          ]
        }
      ]
    },
    {
      "cell_type": "code",
      "source": [
        "!unzip -q /content/drive/MyDrive/amazon_reviews.zip -d /content/dataset"
      ],
      "metadata": {
        "id": "Y96tnaJmJnau"
      },
      "execution_count": null,
      "outputs": []
    },
    {
      "cell_type": "code",
      "source": [
        "import pandas as pd\n",
        "import numpy as np\n",
        "import tensorflow as tf\n",
        "import re\n",
        "from nltk.corpus import stopwords\n",
        "import time\n",
        "from tensorflow.python.layers.core import Dense\n",
        "from tensorflow.python.ops.rnn_cell_impl import _zero_state_tensors\n",
        "from sklearn.model_selection import train_test_split\n",
        "\n",
        "from tensorflow.keras.preprocessing.sequence import pad_sequences\n",
        "from tensorflow.keras.layers import Dense, Embedding, Input, InputLayer, RNN, SimpleRNN, LSTM, Bidirectional, TimeDistributed\n",
        "from tensorflow.keras.models import Model, Sequential\n",
        "from tensorflow.keras.callbacks import EarlyStopping, ModelCheckpoint\n",
        "from tensorflow.keras.preprocessing.text import Tokenizer\n",
        "from tensorflow.keras.preprocessing.sequence import pad_sequences\n",
        "\n",
        "\n",
        "print('TensorFlow Version: {}'.format(tf.__version__))"
      ],
      "metadata": {
        "_uuid": "8f2839f25d086af736a60e9eeb907d3b93b6e0e5",
        "_cell_guid": "b1076dfc-b9ad-4769-8c92-a6c4dae69d19",
        "editable": false,
        "execution": {
          "iopub.status.busy": "2022-04-13T03:47:24.191215Z",
          "iopub.execute_input": "2022-04-13T03:47:24.191635Z",
          "iopub.status.idle": "2022-04-13T03:47:30.555752Z",
          "shell.execute_reply.started": "2022-04-13T03:47:24.191547Z",
          "shell.execute_reply": "2022-04-13T03:47:30.554961Z"
        },
        "trusted": true,
        "id": "AaE5YBqqVjRy",
        "colab": {
          "base_uri": "https://localhost:8080/"
        },
        "outputId": "160f905e-a151-46a1-faea-720cc93b73a1"
      },
      "execution_count": null,
      "outputs": [
        {
          "output_type": "stream",
          "name": "stdout",
          "text": [
            "TensorFlow Version: 2.8.0\n"
          ]
        }
      ]
    },
    {
      "cell_type": "code",
      "source": [
        "!pip install nltk\n",
        "!pip install wordcloud\n",
        "import nltk\n",
        "nltk.download('all')"
      ],
      "metadata": {
        "editable": false,
        "execution": {
          "iopub.status.busy": "2022-04-13T03:47:30.557409Z",
          "iopub.execute_input": "2022-04-13T03:47:30.557655Z",
          "iopub.status.idle": "2022-04-13T03:48:07.448067Z",
          "shell.execute_reply.started": "2022-04-13T03:47:30.557624Z",
          "shell.execute_reply": "2022-04-13T03:48:07.447289Z"
        },
        "trusted": true,
        "id": "Y-5yzZr1VjR3",
        "colab": {
          "base_uri": "https://localhost:8080/"
        },
        "outputId": "2f58d821-1c8d-4378-95aa-76d26f3d12c7"
      },
      "execution_count": null,
      "outputs": [
        {
          "output_type": "stream",
          "name": "stdout",
          "text": [
            "Requirement already satisfied: nltk in /usr/local/lib/python3.7/dist-packages (3.2.5)\n",
            "Requirement already satisfied: six in /usr/local/lib/python3.7/dist-packages (from nltk) (1.15.0)\n",
            "Requirement already satisfied: wordcloud in /usr/local/lib/python3.7/dist-packages (1.5.0)\n",
            "Requirement already satisfied: numpy>=1.6.1 in /usr/local/lib/python3.7/dist-packages (from wordcloud) (1.21.5)\n",
            "Requirement already satisfied: pillow in /usr/local/lib/python3.7/dist-packages (from wordcloud) (7.1.2)\n",
            "[nltk_data] Downloading collection 'all'\n",
            "[nltk_data]    | \n",
            "[nltk_data]    | Downloading package abc to /root/nltk_data...\n",
            "[nltk_data]    |   Unzipping corpora/abc.zip.\n",
            "[nltk_data]    | Downloading package alpino to /root/nltk_data...\n",
            "[nltk_data]    |   Unzipping corpora/alpino.zip.\n",
            "[nltk_data]    | Downloading package averaged_perceptron_tagger to\n",
            "[nltk_data]    |     /root/nltk_data...\n",
            "[nltk_data]    |   Unzipping taggers/averaged_perceptron_tagger.zip.\n",
            "[nltk_data]    | Downloading package averaged_perceptron_tagger_ru to\n",
            "[nltk_data]    |     /root/nltk_data...\n",
            "[nltk_data]    |   Unzipping\n",
            "[nltk_data]    |       taggers/averaged_perceptron_tagger_ru.zip.\n",
            "[nltk_data]    | Downloading package basque_grammars to\n",
            "[nltk_data]    |     /root/nltk_data...\n",
            "[nltk_data]    |   Unzipping grammars/basque_grammars.zip.\n",
            "[nltk_data]    | Downloading package biocreative_ppi to\n",
            "[nltk_data]    |     /root/nltk_data...\n",
            "[nltk_data]    |   Unzipping corpora/biocreative_ppi.zip.\n",
            "[nltk_data]    | Downloading package bllip_wsj_no_aux to\n",
            "[nltk_data]    |     /root/nltk_data...\n",
            "[nltk_data]    |   Unzipping models/bllip_wsj_no_aux.zip.\n",
            "[nltk_data]    | Downloading package book_grammars to\n",
            "[nltk_data]    |     /root/nltk_data...\n",
            "[nltk_data]    |   Unzipping grammars/book_grammars.zip.\n",
            "[nltk_data]    | Downloading package brown to /root/nltk_data...\n",
            "[nltk_data]    |   Unzipping corpora/brown.zip.\n",
            "[nltk_data]    | Downloading package brown_tei to /root/nltk_data...\n",
            "[nltk_data]    |   Unzipping corpora/brown_tei.zip.\n",
            "[nltk_data]    | Downloading package cess_cat to /root/nltk_data...\n",
            "[nltk_data]    |   Unzipping corpora/cess_cat.zip.\n",
            "[nltk_data]    | Downloading package cess_esp to /root/nltk_data...\n",
            "[nltk_data]    |   Unzipping corpora/cess_esp.zip.\n",
            "[nltk_data]    | Downloading package chat80 to /root/nltk_data...\n",
            "[nltk_data]    |   Unzipping corpora/chat80.zip.\n",
            "[nltk_data]    | Downloading package city_database to\n",
            "[nltk_data]    |     /root/nltk_data...\n",
            "[nltk_data]    |   Unzipping corpora/city_database.zip.\n",
            "[nltk_data]    | Downloading package cmudict to /root/nltk_data...\n",
            "[nltk_data]    |   Unzipping corpora/cmudict.zip.\n",
            "[nltk_data]    | Downloading package comparative_sentences to\n",
            "[nltk_data]    |     /root/nltk_data...\n",
            "[nltk_data]    |   Unzipping corpora/comparative_sentences.zip.\n",
            "[nltk_data]    | Downloading package comtrans to /root/nltk_data...\n",
            "[nltk_data]    | Downloading package conll2000 to /root/nltk_data...\n",
            "[nltk_data]    |   Unzipping corpora/conll2000.zip.\n",
            "[nltk_data]    | Downloading package conll2002 to /root/nltk_data...\n",
            "[nltk_data]    |   Unzipping corpora/conll2002.zip.\n",
            "[nltk_data]    | Downloading package conll2007 to /root/nltk_data...\n",
            "[nltk_data]    | Downloading package crubadan to /root/nltk_data...\n",
            "[nltk_data]    |   Unzipping corpora/crubadan.zip.\n",
            "[nltk_data]    | Downloading package dependency_treebank to\n",
            "[nltk_data]    |     /root/nltk_data...\n",
            "[nltk_data]    |   Unzipping corpora/dependency_treebank.zip.\n",
            "[nltk_data]    | Downloading package dolch to /root/nltk_data...\n",
            "[nltk_data]    |   Unzipping corpora/dolch.zip.\n",
            "[nltk_data]    | Downloading package europarl_raw to\n",
            "[nltk_data]    |     /root/nltk_data...\n",
            "[nltk_data]    |   Unzipping corpora/europarl_raw.zip.\n",
            "[nltk_data]    | Downloading package extended_omw to\n",
            "[nltk_data]    |     /root/nltk_data...\n",
            "[nltk_data]    |   Unzipping corpora/extended_omw.zip.\n",
            "[nltk_data]    | Downloading package floresta to /root/nltk_data...\n",
            "[nltk_data]    |   Unzipping corpora/floresta.zip.\n",
            "[nltk_data]    | Downloading package framenet_v15 to\n",
            "[nltk_data]    |     /root/nltk_data...\n",
            "[nltk_data]    |   Unzipping corpora/framenet_v15.zip.\n",
            "[nltk_data]    | Downloading package framenet_v17 to\n",
            "[nltk_data]    |     /root/nltk_data...\n",
            "[nltk_data]    |   Unzipping corpora/framenet_v17.zip.\n",
            "[nltk_data]    | Downloading package gazetteers to /root/nltk_data...\n",
            "[nltk_data]    |   Unzipping corpora/gazetteers.zip.\n",
            "[nltk_data]    | Downloading package genesis to /root/nltk_data...\n",
            "[nltk_data]    |   Unzipping corpora/genesis.zip.\n",
            "[nltk_data]    | Downloading package gutenberg to /root/nltk_data...\n",
            "[nltk_data]    |   Unzipping corpora/gutenberg.zip.\n",
            "[nltk_data]    | Downloading package ieer to /root/nltk_data...\n",
            "[nltk_data]    |   Unzipping corpora/ieer.zip.\n",
            "[nltk_data]    | Downloading package inaugural to /root/nltk_data...\n",
            "[nltk_data]    |   Unzipping corpora/inaugural.zip.\n",
            "[nltk_data]    | Downloading package indian to /root/nltk_data...\n",
            "[nltk_data]    |   Unzipping corpora/indian.zip.\n",
            "[nltk_data]    | Downloading package jeita to /root/nltk_data...\n",
            "[nltk_data]    | Downloading package kimmo to /root/nltk_data...\n",
            "[nltk_data]    |   Unzipping corpora/kimmo.zip.\n",
            "[nltk_data]    | Downloading package knbc to /root/nltk_data...\n",
            "[nltk_data]    | Downloading package large_grammars to\n",
            "[nltk_data]    |     /root/nltk_data...\n",
            "[nltk_data]    |   Unzipping grammars/large_grammars.zip.\n",
            "[nltk_data]    | Downloading package lin_thesaurus to\n",
            "[nltk_data]    |     /root/nltk_data...\n",
            "[nltk_data]    |   Unzipping corpora/lin_thesaurus.zip.\n",
            "[nltk_data]    | Downloading package mac_morpho to /root/nltk_data...\n",
            "[nltk_data]    |   Unzipping corpora/mac_morpho.zip.\n",
            "[nltk_data]    | Downloading package machado to /root/nltk_data...\n",
            "[nltk_data]    | Downloading package masc_tagged to /root/nltk_data...\n",
            "[nltk_data]    | Downloading package maxent_ne_chunker to\n",
            "[nltk_data]    |     /root/nltk_data...\n",
            "[nltk_data]    |   Unzipping chunkers/maxent_ne_chunker.zip.\n",
            "[nltk_data]    | Downloading package maxent_treebank_pos_tagger to\n",
            "[nltk_data]    |     /root/nltk_data...\n",
            "[nltk_data]    |   Unzipping taggers/maxent_treebank_pos_tagger.zip.\n",
            "[nltk_data]    | Downloading package moses_sample to\n",
            "[nltk_data]    |     /root/nltk_data...\n",
            "[nltk_data]    |   Unzipping models/moses_sample.zip.\n",
            "[nltk_data]    | Downloading package movie_reviews to\n",
            "[nltk_data]    |     /root/nltk_data...\n",
            "[nltk_data]    |   Unzipping corpora/movie_reviews.zip.\n",
            "[nltk_data]    | Downloading package mte_teip5 to /root/nltk_data...\n",
            "[nltk_data]    |   Unzipping corpora/mte_teip5.zip.\n",
            "[nltk_data]    | Downloading package mwa_ppdb to /root/nltk_data...\n",
            "[nltk_data]    |   Unzipping misc/mwa_ppdb.zip.\n",
            "[nltk_data]    | Downloading package names to /root/nltk_data...\n",
            "[nltk_data]    |   Unzipping corpora/names.zip.\n",
            "[nltk_data]    | Downloading package nombank.1.0 to /root/nltk_data...\n",
            "[nltk_data]    | Downloading package nonbreaking_prefixes to\n",
            "[nltk_data]    |     /root/nltk_data...\n",
            "[nltk_data]    |   Unzipping corpora/nonbreaking_prefixes.zip.\n",
            "[nltk_data]    | Downloading package nps_chat to /root/nltk_data...\n",
            "[nltk_data]    |   Unzipping corpora/nps_chat.zip.\n",
            "[nltk_data]    | Downloading package omw to /root/nltk_data...\n",
            "[nltk_data]    |   Unzipping corpora/omw.zip.\n",
            "[nltk_data]    | Downloading package omw-1.4 to /root/nltk_data...\n",
            "[nltk_data]    |   Unzipping corpora/omw-1.4.zip.\n",
            "[nltk_data]    | Downloading package opinion_lexicon to\n",
            "[nltk_data]    |     /root/nltk_data...\n",
            "[nltk_data]    |   Unzipping corpora/opinion_lexicon.zip.\n",
            "[nltk_data]    | Downloading package panlex_swadesh to\n",
            "[nltk_data]    |     /root/nltk_data...\n",
            "[nltk_data]    | Downloading package paradigms to /root/nltk_data...\n",
            "[nltk_data]    |   Unzipping corpora/paradigms.zip.\n",
            "[nltk_data]    | Downloading package pe08 to /root/nltk_data...\n",
            "[nltk_data]    |   Unzipping corpora/pe08.zip.\n",
            "[nltk_data]    | Downloading package perluniprops to\n",
            "[nltk_data]    |     /root/nltk_data...\n",
            "[nltk_data]    |   Unzipping misc/perluniprops.zip.\n",
            "[nltk_data]    | Downloading package pil to /root/nltk_data...\n",
            "[nltk_data]    |   Unzipping corpora/pil.zip.\n",
            "[nltk_data]    | Downloading package pl196x to /root/nltk_data...\n",
            "[nltk_data]    |   Unzipping corpora/pl196x.zip.\n",
            "[nltk_data]    | Downloading package porter_test to /root/nltk_data...\n",
            "[nltk_data]    |   Unzipping stemmers/porter_test.zip.\n",
            "[nltk_data]    | Downloading package ppattach to /root/nltk_data...\n",
            "[nltk_data]    |   Unzipping corpora/ppattach.zip.\n",
            "[nltk_data]    | Downloading package problem_reports to\n",
            "[nltk_data]    |     /root/nltk_data...\n",
            "[nltk_data]    |   Unzipping corpora/problem_reports.zip.\n",
            "[nltk_data]    | Downloading package product_reviews_1 to\n",
            "[nltk_data]    |     /root/nltk_data...\n",
            "[nltk_data]    |   Unzipping corpora/product_reviews_1.zip.\n",
            "[nltk_data]    | Downloading package product_reviews_2 to\n",
            "[nltk_data]    |     /root/nltk_data...\n",
            "[nltk_data]    |   Unzipping corpora/product_reviews_2.zip.\n",
            "[nltk_data]    | Downloading package propbank to /root/nltk_data...\n",
            "[nltk_data]    | Downloading package pros_cons to /root/nltk_data...\n",
            "[nltk_data]    |   Unzipping corpora/pros_cons.zip.\n",
            "[nltk_data]    | Downloading package ptb to /root/nltk_data...\n",
            "[nltk_data]    |   Unzipping corpora/ptb.zip.\n",
            "[nltk_data]    | Downloading package punkt to /root/nltk_data...\n",
            "[nltk_data]    |   Unzipping tokenizers/punkt.zip.\n",
            "[nltk_data]    | Downloading package qc to /root/nltk_data...\n",
            "[nltk_data]    |   Unzipping corpora/qc.zip.\n",
            "[nltk_data]    | Downloading package reuters to /root/nltk_data...\n",
            "[nltk_data]    | Downloading package rslp to /root/nltk_data...\n",
            "[nltk_data]    |   Unzipping stemmers/rslp.zip.\n",
            "[nltk_data]    | Downloading package rte to /root/nltk_data...\n",
            "[nltk_data]    |   Unzipping corpora/rte.zip.\n",
            "[nltk_data]    | Downloading package sample_grammars to\n",
            "[nltk_data]    |     /root/nltk_data...\n",
            "[nltk_data]    |   Unzipping grammars/sample_grammars.zip.\n",
            "[nltk_data]    | Downloading package semcor to /root/nltk_data...\n",
            "[nltk_data]    | Downloading package senseval to /root/nltk_data...\n",
            "[nltk_data]    |   Unzipping corpora/senseval.zip.\n",
            "[nltk_data]    | Downloading package sentence_polarity to\n",
            "[nltk_data]    |     /root/nltk_data...\n",
            "[nltk_data]    |   Unzipping corpora/sentence_polarity.zip.\n",
            "[nltk_data]    | Downloading package sentiwordnet to\n",
            "[nltk_data]    |     /root/nltk_data...\n",
            "[nltk_data]    |   Unzipping corpora/sentiwordnet.zip.\n",
            "[nltk_data]    | Downloading package shakespeare to /root/nltk_data...\n",
            "[nltk_data]    |   Unzipping corpora/shakespeare.zip.\n",
            "[nltk_data]    | Downloading package sinica_treebank to\n",
            "[nltk_data]    |     /root/nltk_data...\n",
            "[nltk_data]    |   Unzipping corpora/sinica_treebank.zip.\n",
            "[nltk_data]    | Downloading package smultron to /root/nltk_data...\n",
            "[nltk_data]    |   Unzipping corpora/smultron.zip.\n",
            "[nltk_data]    | Downloading package snowball_data to\n",
            "[nltk_data]    |     /root/nltk_data...\n",
            "[nltk_data]    | Downloading package spanish_grammars to\n",
            "[nltk_data]    |     /root/nltk_data...\n",
            "[nltk_data]    |   Unzipping grammars/spanish_grammars.zip.\n",
            "[nltk_data]    | Downloading package state_union to /root/nltk_data...\n",
            "[nltk_data]    |   Unzipping corpora/state_union.zip.\n",
            "[nltk_data]    | Downloading package stopwords to /root/nltk_data...\n",
            "[nltk_data]    |   Unzipping corpora/stopwords.zip.\n",
            "[nltk_data]    | Downloading package subjectivity to\n",
            "[nltk_data]    |     /root/nltk_data...\n",
            "[nltk_data]    |   Unzipping corpora/subjectivity.zip.\n",
            "[nltk_data]    | Downloading package swadesh to /root/nltk_data...\n",
            "[nltk_data]    |   Unzipping corpora/swadesh.zip.\n",
            "[nltk_data]    | Downloading package switchboard to /root/nltk_data...\n",
            "[nltk_data]    |   Unzipping corpora/switchboard.zip.\n",
            "[nltk_data]    | Downloading package tagsets to /root/nltk_data...\n",
            "[nltk_data]    |   Unzipping help/tagsets.zip.\n",
            "[nltk_data]    | Downloading package timit to /root/nltk_data...\n",
            "[nltk_data]    |   Unzipping corpora/timit.zip.\n",
            "[nltk_data]    | Downloading package toolbox to /root/nltk_data...\n",
            "[nltk_data]    |   Unzipping corpora/toolbox.zip.\n",
            "[nltk_data]    | Downloading package treebank to /root/nltk_data...\n",
            "[nltk_data]    |   Unzipping corpora/treebank.zip.\n",
            "[nltk_data]    | Downloading package twitter_samples to\n",
            "[nltk_data]    |     /root/nltk_data...\n",
            "[nltk_data]    |   Unzipping corpora/twitter_samples.zip.\n",
            "[nltk_data]    | Downloading package udhr to /root/nltk_data...\n",
            "[nltk_data]    |   Unzipping corpora/udhr.zip.\n",
            "[nltk_data]    | Downloading package udhr2 to /root/nltk_data...\n",
            "[nltk_data]    |   Unzipping corpora/udhr2.zip.\n",
            "[nltk_data]    | Downloading package unicode_samples to\n",
            "[nltk_data]    |     /root/nltk_data...\n",
            "[nltk_data]    |   Unzipping corpora/unicode_samples.zip.\n",
            "[nltk_data]    | Downloading package universal_tagset to\n",
            "[nltk_data]    |     /root/nltk_data...\n",
            "[nltk_data]    |   Unzipping taggers/universal_tagset.zip.\n",
            "[nltk_data]    | Downloading package universal_treebanks_v20 to\n",
            "[nltk_data]    |     /root/nltk_data...\n",
            "[nltk_data]    | Downloading package vader_lexicon to\n",
            "[nltk_data]    |     /root/nltk_data...\n",
            "[nltk_data]    | Downloading package verbnet to /root/nltk_data...\n",
            "[nltk_data]    |   Unzipping corpora/verbnet.zip.\n",
            "[nltk_data]    | Downloading package verbnet3 to /root/nltk_data...\n",
            "[nltk_data]    |   Unzipping corpora/verbnet3.zip.\n",
            "[nltk_data]    | Downloading package webtext to /root/nltk_data...\n",
            "[nltk_data]    |   Unzipping corpora/webtext.zip.\n",
            "[nltk_data]    | Downloading package wmt15_eval to /root/nltk_data...\n",
            "[nltk_data]    |   Unzipping models/wmt15_eval.zip.\n",
            "[nltk_data]    | Downloading package word2vec_sample to\n",
            "[nltk_data]    |     /root/nltk_data...\n",
            "[nltk_data]    |   Unzipping models/word2vec_sample.zip.\n",
            "[nltk_data]    | Downloading package wordnet to /root/nltk_data...\n",
            "[nltk_data]    |   Unzipping corpora/wordnet.zip.\n",
            "[nltk_data]    | Downloading package wordnet2021 to /root/nltk_data...\n",
            "[nltk_data]    |   Unzipping corpora/wordnet2021.zip.\n",
            "[nltk_data]    | Downloading package wordnet31 to /root/nltk_data...\n",
            "[nltk_data]    |   Unzipping corpora/wordnet31.zip.\n",
            "[nltk_data]    | Downloading package wordnet_ic to /root/nltk_data...\n",
            "[nltk_data]    |   Unzipping corpora/wordnet_ic.zip.\n",
            "[nltk_data]    | Downloading package words to /root/nltk_data...\n",
            "[nltk_data]    |   Unzipping corpora/words.zip.\n",
            "[nltk_data]    | Downloading package ycoe to /root/nltk_data...\n",
            "[nltk_data]    |   Unzipping corpora/ycoe.zip.\n",
            "[nltk_data]    | \n",
            "[nltk_data]  Done downloading collection all\n"
          ]
        },
        {
          "output_type": "execute_result",
          "data": {
            "text/plain": [
              "True"
            ]
          },
          "metadata": {},
          "execution_count": 4
        }
      ]
    },
    {
      "cell_type": "markdown",
      "source": [
        "### Load the Dataset"
      ],
      "metadata": {
        "editable": false,
        "id": "-u1wIiKLVjR4"
      }
    },
    {
      "cell_type": "code",
      "source": [
        "reviews=pd.read_csv('/content/dataset/Reviews.csv')"
      ],
      "metadata": {
        "editable": false,
        "execution": {
          "iopub.status.busy": "2022-04-13T03:48:07.449612Z",
          "iopub.execute_input": "2022-04-13T03:48:07.451394Z",
          "iopub.status.idle": "2022-04-13T03:48:14.502977Z",
          "shell.execute_reply.started": "2022-04-13T03:48:07.451354Z",
          "shell.execute_reply": "2022-04-13T03:48:14.502247Z"
        },
        "trusted": true,
        "id": "ouU5iKzpVjR5"
      },
      "execution_count": null,
      "outputs": []
    },
    {
      "cell_type": "code",
      "source": [
        "reviews.shape"
      ],
      "metadata": {
        "editable": false,
        "execution": {
          "iopub.status.busy": "2022-04-13T03:48:14.505330Z",
          "iopub.execute_input": "2022-04-13T03:48:14.505637Z",
          "iopub.status.idle": "2022-04-13T03:48:14.511460Z",
          "shell.execute_reply.started": "2022-04-13T03:48:14.505597Z",
          "shell.execute_reply": "2022-04-13T03:48:14.510687Z"
        },
        "trusted": true,
        "id": "Se7u6KgKVjR6",
        "colab": {
          "base_uri": "https://localhost:8080/"
        },
        "outputId": "1b50645d-65dc-41c6-9687-4857762fc839"
      },
      "execution_count": null,
      "outputs": [
        {
          "output_type": "execute_result",
          "data": {
            "text/plain": [
              "(568454, 10)"
            ]
          },
          "metadata": {},
          "execution_count": 6
        }
      ]
    },
    {
      "cell_type": "code",
      "source": [
        "reviews.head()"
      ],
      "metadata": {
        "editable": false,
        "execution": {
          "iopub.status.busy": "2022-04-13T03:48:14.513047Z",
          "iopub.execute_input": "2022-04-13T03:48:14.513609Z",
          "iopub.status.idle": "2022-04-13T03:48:14.536023Z",
          "shell.execute_reply.started": "2022-04-13T03:48:14.513571Z",
          "shell.execute_reply": "2022-04-13T03:48:14.535315Z"
        },
        "trusted": true,
        "id": "pbtKF6cMVjR7",
        "colab": {
          "base_uri": "https://localhost:8080/",
          "height": 424
        },
        "outputId": "6229610d-9c13-4e58-a384-2b94d1097af7"
      },
      "execution_count": null,
      "outputs": [
        {
          "output_type": "execute_result",
          "data": {
            "text/plain": [
              "   Id   ProductId          UserId                      ProfileName  \\\n",
              "0   1  B001E4KFG0  A3SGXH7AUHU8GW                       delmartian   \n",
              "1   2  B00813GRG4  A1D87F6ZCVE5NK                           dll pa   \n",
              "2   3  B000LQOCH0   ABXLMWJIXXAIN  Natalia Corres \"Natalia Corres\"   \n",
              "3   4  B000UA0QIQ  A395BORC6FGVXV                             Karl   \n",
              "4   5  B006K2ZZ7K  A1UQRSCLF8GW1T    Michael D. Bigham \"M. Wassir\"   \n",
              "\n",
              "   HelpfulnessNumerator  HelpfulnessDenominator  Score        Time  \\\n",
              "0                     1                       1      5  1303862400   \n",
              "1                     0                       0      1  1346976000   \n",
              "2                     1                       1      4  1219017600   \n",
              "3                     3                       3      2  1307923200   \n",
              "4                     0                       0      5  1350777600   \n",
              "\n",
              "                 Summary                                               Text  \n",
              "0  Good Quality Dog Food  I have bought several of the Vitality canned d...  \n",
              "1      Not as Advertised  Product arrived labeled as Jumbo Salted Peanut...  \n",
              "2  \"Delight\" says it all  This is a confection that has been around a fe...  \n",
              "3         Cough Medicine  If you are looking for the secret ingredient i...  \n",
              "4            Great taffy  Great taffy at a great price.  There was a wid...  "
            ],
            "text/html": [
              "\n",
              "  <div id=\"df-b23652a6-3b76-4ef1-a6f5-a69eb0e66288\">\n",
              "    <div class=\"colab-df-container\">\n",
              "      <div>\n",
              "<style scoped>\n",
              "    .dataframe tbody tr th:only-of-type {\n",
              "        vertical-align: middle;\n",
              "    }\n",
              "\n",
              "    .dataframe tbody tr th {\n",
              "        vertical-align: top;\n",
              "    }\n",
              "\n",
              "    .dataframe thead th {\n",
              "        text-align: right;\n",
              "    }\n",
              "</style>\n",
              "<table border=\"1\" class=\"dataframe\">\n",
              "  <thead>\n",
              "    <tr style=\"text-align: right;\">\n",
              "      <th></th>\n",
              "      <th>Id</th>\n",
              "      <th>ProductId</th>\n",
              "      <th>UserId</th>\n",
              "      <th>ProfileName</th>\n",
              "      <th>HelpfulnessNumerator</th>\n",
              "      <th>HelpfulnessDenominator</th>\n",
              "      <th>Score</th>\n",
              "      <th>Time</th>\n",
              "      <th>Summary</th>\n",
              "      <th>Text</th>\n",
              "    </tr>\n",
              "  </thead>\n",
              "  <tbody>\n",
              "    <tr>\n",
              "      <th>0</th>\n",
              "      <td>1</td>\n",
              "      <td>B001E4KFG0</td>\n",
              "      <td>A3SGXH7AUHU8GW</td>\n",
              "      <td>delmartian</td>\n",
              "      <td>1</td>\n",
              "      <td>1</td>\n",
              "      <td>5</td>\n",
              "      <td>1303862400</td>\n",
              "      <td>Good Quality Dog Food</td>\n",
              "      <td>I have bought several of the Vitality canned d...</td>\n",
              "    </tr>\n",
              "    <tr>\n",
              "      <th>1</th>\n",
              "      <td>2</td>\n",
              "      <td>B00813GRG4</td>\n",
              "      <td>A1D87F6ZCVE5NK</td>\n",
              "      <td>dll pa</td>\n",
              "      <td>0</td>\n",
              "      <td>0</td>\n",
              "      <td>1</td>\n",
              "      <td>1346976000</td>\n",
              "      <td>Not as Advertised</td>\n",
              "      <td>Product arrived labeled as Jumbo Salted Peanut...</td>\n",
              "    </tr>\n",
              "    <tr>\n",
              "      <th>2</th>\n",
              "      <td>3</td>\n",
              "      <td>B000LQOCH0</td>\n",
              "      <td>ABXLMWJIXXAIN</td>\n",
              "      <td>Natalia Corres \"Natalia Corres\"</td>\n",
              "      <td>1</td>\n",
              "      <td>1</td>\n",
              "      <td>4</td>\n",
              "      <td>1219017600</td>\n",
              "      <td>\"Delight\" says it all</td>\n",
              "      <td>This is a confection that has been around a fe...</td>\n",
              "    </tr>\n",
              "    <tr>\n",
              "      <th>3</th>\n",
              "      <td>4</td>\n",
              "      <td>B000UA0QIQ</td>\n",
              "      <td>A395BORC6FGVXV</td>\n",
              "      <td>Karl</td>\n",
              "      <td>3</td>\n",
              "      <td>3</td>\n",
              "      <td>2</td>\n",
              "      <td>1307923200</td>\n",
              "      <td>Cough Medicine</td>\n",
              "      <td>If you are looking for the secret ingredient i...</td>\n",
              "    </tr>\n",
              "    <tr>\n",
              "      <th>4</th>\n",
              "      <td>5</td>\n",
              "      <td>B006K2ZZ7K</td>\n",
              "      <td>A1UQRSCLF8GW1T</td>\n",
              "      <td>Michael D. Bigham \"M. Wassir\"</td>\n",
              "      <td>0</td>\n",
              "      <td>0</td>\n",
              "      <td>5</td>\n",
              "      <td>1350777600</td>\n",
              "      <td>Great taffy</td>\n",
              "      <td>Great taffy at a great price.  There was a wid...</td>\n",
              "    </tr>\n",
              "  </tbody>\n",
              "</table>\n",
              "</div>\n",
              "      <button class=\"colab-df-convert\" onclick=\"convertToInteractive('df-b23652a6-3b76-4ef1-a6f5-a69eb0e66288')\"\n",
              "              title=\"Convert this dataframe to an interactive table.\"\n",
              "              style=\"display:none;\">\n",
              "        \n",
              "  <svg xmlns=\"http://www.w3.org/2000/svg\" height=\"24px\"viewBox=\"0 0 24 24\"\n",
              "       width=\"24px\">\n",
              "    <path d=\"M0 0h24v24H0V0z\" fill=\"none\"/>\n",
              "    <path d=\"M18.56 5.44l.94 2.06.94-2.06 2.06-.94-2.06-.94-.94-2.06-.94 2.06-2.06.94zm-11 1L8.5 8.5l.94-2.06 2.06-.94-2.06-.94L8.5 2.5l-.94 2.06-2.06.94zm10 10l.94 2.06.94-2.06 2.06-.94-2.06-.94-.94-2.06-.94 2.06-2.06.94z\"/><path d=\"M17.41 7.96l-1.37-1.37c-.4-.4-.92-.59-1.43-.59-.52 0-1.04.2-1.43.59L10.3 9.45l-7.72 7.72c-.78.78-.78 2.05 0 2.83L4 21.41c.39.39.9.59 1.41.59.51 0 1.02-.2 1.41-.59l7.78-7.78 2.81-2.81c.8-.78.8-2.07 0-2.86zM5.41 20L4 18.59l7.72-7.72 1.47 1.35L5.41 20z\"/>\n",
              "  </svg>\n",
              "      </button>\n",
              "      \n",
              "  <style>\n",
              "    .colab-df-container {\n",
              "      display:flex;\n",
              "      flex-wrap:wrap;\n",
              "      gap: 12px;\n",
              "    }\n",
              "\n",
              "    .colab-df-convert {\n",
              "      background-color: #E8F0FE;\n",
              "      border: none;\n",
              "      border-radius: 50%;\n",
              "      cursor: pointer;\n",
              "      display: none;\n",
              "      fill: #1967D2;\n",
              "      height: 32px;\n",
              "      padding: 0 0 0 0;\n",
              "      width: 32px;\n",
              "    }\n",
              "\n",
              "    .colab-df-convert:hover {\n",
              "      background-color: #E2EBFA;\n",
              "      box-shadow: 0px 1px 2px rgba(60, 64, 67, 0.3), 0px 1px 3px 1px rgba(60, 64, 67, 0.15);\n",
              "      fill: #174EA6;\n",
              "    }\n",
              "\n",
              "    [theme=dark] .colab-df-convert {\n",
              "      background-color: #3B4455;\n",
              "      fill: #D2E3FC;\n",
              "    }\n",
              "\n",
              "    [theme=dark] .colab-df-convert:hover {\n",
              "      background-color: #434B5C;\n",
              "      box-shadow: 0px 1px 3px 1px rgba(0, 0, 0, 0.15);\n",
              "      filter: drop-shadow(0px 1px 2px rgba(0, 0, 0, 0.3));\n",
              "      fill: #FFFFFF;\n",
              "    }\n",
              "  </style>\n",
              "\n",
              "      <script>\n",
              "        const buttonEl =\n",
              "          document.querySelector('#df-b23652a6-3b76-4ef1-a6f5-a69eb0e66288 button.colab-df-convert');\n",
              "        buttonEl.style.display =\n",
              "          google.colab.kernel.accessAllowed ? 'block' : 'none';\n",
              "\n",
              "        async function convertToInteractive(key) {\n",
              "          const element = document.querySelector('#df-b23652a6-3b76-4ef1-a6f5-a69eb0e66288');\n",
              "          const dataTable =\n",
              "            await google.colab.kernel.invokeFunction('convertToInteractive',\n",
              "                                                     [key], {});\n",
              "          if (!dataTable) return;\n",
              "\n",
              "          const docLinkHtml = 'Like what you see? Visit the ' +\n",
              "            '<a target=\"_blank\" href=https://colab.research.google.com/notebooks/data_table.ipynb>data table notebook</a>'\n",
              "            + ' to learn more about interactive tables.';\n",
              "          element.innerHTML = '';\n",
              "          dataTable['output_type'] = 'display_data';\n",
              "          await google.colab.output.renderOutput(dataTable, element);\n",
              "          const docLink = document.createElement('div');\n",
              "          docLink.innerHTML = docLinkHtml;\n",
              "          element.appendChild(docLink);\n",
              "        }\n",
              "      </script>\n",
              "    </div>\n",
              "  </div>\n",
              "  "
            ]
          },
          "metadata": {},
          "execution_count": 7
        }
      ]
    },
    {
      "cell_type": "markdown",
      "source": [
        "Remove extra columns"
      ],
      "metadata": {
        "editable": false,
        "id": "1JMg8yi7VjR7"
      }
    },
    {
      "cell_type": "code",
      "source": [
        "# Remove null values and unneeded features\n",
        "reviews = reviews.dropna()\n",
        "reviews = reviews.drop(['Id','ProductId','UserId','ProfileName','HelpfulnessNumerator','HelpfulnessDenominator',\n",
        "                        'Score','Time'], 1)\n",
        "reviews = reviews.reset_index(drop=True)"
      ],
      "metadata": {
        "editable": false,
        "execution": {
          "iopub.status.busy": "2022-04-13T03:48:14.537181Z",
          "iopub.execute_input": "2022-04-13T03:48:14.537430Z",
          "iopub.status.idle": "2022-04-13T03:48:15.001722Z",
          "shell.execute_reply.started": "2022-04-13T03:48:14.537398Z",
          "shell.execute_reply": "2022-04-13T03:48:15.000954Z"
        },
        "trusted": true,
        "id": "1nLdfsw0VjR8",
        "colab": {
          "base_uri": "https://localhost:8080/"
        },
        "outputId": "ae3ae4a5-39d2-4d72-9de0-5afc3750df5b"
      },
      "execution_count": null,
      "outputs": [
        {
          "output_type": "stream",
          "name": "stderr",
          "text": [
            "/usr/local/lib/python3.7/dist-packages/ipykernel_launcher.py:4: FutureWarning: In a future version of pandas all arguments of DataFrame.drop except for the argument 'labels' will be keyword-only\n",
            "  after removing the cwd from sys.path.\n"
          ]
        }
      ]
    },
    {
      "cell_type": "code",
      "source": [
        "reviews"
      ],
      "metadata": {
        "editable": false,
        "execution": {
          "iopub.status.busy": "2022-04-13T03:48:15.002851Z",
          "iopub.execute_input": "2022-04-13T03:48:15.003320Z",
          "iopub.status.idle": "2022-04-13T03:48:15.017026Z",
          "shell.execute_reply.started": "2022-04-13T03:48:15.003284Z",
          "shell.execute_reply": "2022-04-13T03:48:15.016143Z"
        },
        "trusted": true,
        "id": "a8I5ZW7WVjR9",
        "colab": {
          "base_uri": "https://localhost:8080/",
          "height": 423
        },
        "outputId": "702bf30f-633b-4c6c-e0f1-53ba93a9099d"
      },
      "execution_count": null,
      "outputs": [
        {
          "output_type": "execute_result",
          "data": {
            "text/plain": [
              "                                   Summary  \\\n",
              "0                    Good Quality Dog Food   \n",
              "1                        Not as Advertised   \n",
              "2                    \"Delight\" says it all   \n",
              "3                           Cough Medicine   \n",
              "4                              Great taffy   \n",
              "...                                    ...   \n",
              "568406                 Will not do without   \n",
              "568407                        disappointed   \n",
              "568408            Perfect for our maltipoo   \n",
              "568409  Favorite Training and reward treat   \n",
              "568410                         Great Honey   \n",
              "\n",
              "                                                     Text  \n",
              "0       I have bought several of the Vitality canned d...  \n",
              "1       Product arrived labeled as Jumbo Salted Peanut...  \n",
              "2       This is a confection that has been around a fe...  \n",
              "3       If you are looking for the secret ingredient i...  \n",
              "4       Great taffy at a great price.  There was a wid...  \n",
              "...                                                   ...  \n",
              "568406  Great for sesame chicken..this is a good if no...  \n",
              "568407  I'm disappointed with the flavor. The chocolat...  \n",
              "568408  These stars are small, so you can give 10-15 o...  \n",
              "568409  These are the BEST treats for training and rew...  \n",
              "568410  I am very satisfied ,product is as advertised,...  \n",
              "\n",
              "[568411 rows x 2 columns]"
            ],
            "text/html": [
              "\n",
              "  <div id=\"df-2de33b2a-546b-43e0-87fe-47aa86533d57\">\n",
              "    <div class=\"colab-df-container\">\n",
              "      <div>\n",
              "<style scoped>\n",
              "    .dataframe tbody tr th:only-of-type {\n",
              "        vertical-align: middle;\n",
              "    }\n",
              "\n",
              "    .dataframe tbody tr th {\n",
              "        vertical-align: top;\n",
              "    }\n",
              "\n",
              "    .dataframe thead th {\n",
              "        text-align: right;\n",
              "    }\n",
              "</style>\n",
              "<table border=\"1\" class=\"dataframe\">\n",
              "  <thead>\n",
              "    <tr style=\"text-align: right;\">\n",
              "      <th></th>\n",
              "      <th>Summary</th>\n",
              "      <th>Text</th>\n",
              "    </tr>\n",
              "  </thead>\n",
              "  <tbody>\n",
              "    <tr>\n",
              "      <th>0</th>\n",
              "      <td>Good Quality Dog Food</td>\n",
              "      <td>I have bought several of the Vitality canned d...</td>\n",
              "    </tr>\n",
              "    <tr>\n",
              "      <th>1</th>\n",
              "      <td>Not as Advertised</td>\n",
              "      <td>Product arrived labeled as Jumbo Salted Peanut...</td>\n",
              "    </tr>\n",
              "    <tr>\n",
              "      <th>2</th>\n",
              "      <td>\"Delight\" says it all</td>\n",
              "      <td>This is a confection that has been around a fe...</td>\n",
              "    </tr>\n",
              "    <tr>\n",
              "      <th>3</th>\n",
              "      <td>Cough Medicine</td>\n",
              "      <td>If you are looking for the secret ingredient i...</td>\n",
              "    </tr>\n",
              "    <tr>\n",
              "      <th>4</th>\n",
              "      <td>Great taffy</td>\n",
              "      <td>Great taffy at a great price.  There was a wid...</td>\n",
              "    </tr>\n",
              "    <tr>\n",
              "      <th>...</th>\n",
              "      <td>...</td>\n",
              "      <td>...</td>\n",
              "    </tr>\n",
              "    <tr>\n",
              "      <th>568406</th>\n",
              "      <td>Will not do without</td>\n",
              "      <td>Great for sesame chicken..this is a good if no...</td>\n",
              "    </tr>\n",
              "    <tr>\n",
              "      <th>568407</th>\n",
              "      <td>disappointed</td>\n",
              "      <td>I'm disappointed with the flavor. The chocolat...</td>\n",
              "    </tr>\n",
              "    <tr>\n",
              "      <th>568408</th>\n",
              "      <td>Perfect for our maltipoo</td>\n",
              "      <td>These stars are small, so you can give 10-15 o...</td>\n",
              "    </tr>\n",
              "    <tr>\n",
              "      <th>568409</th>\n",
              "      <td>Favorite Training and reward treat</td>\n",
              "      <td>These are the BEST treats for training and rew...</td>\n",
              "    </tr>\n",
              "    <tr>\n",
              "      <th>568410</th>\n",
              "      <td>Great Honey</td>\n",
              "      <td>I am very satisfied ,product is as advertised,...</td>\n",
              "    </tr>\n",
              "  </tbody>\n",
              "</table>\n",
              "<p>568411 rows × 2 columns</p>\n",
              "</div>\n",
              "      <button class=\"colab-df-convert\" onclick=\"convertToInteractive('df-2de33b2a-546b-43e0-87fe-47aa86533d57')\"\n",
              "              title=\"Convert this dataframe to an interactive table.\"\n",
              "              style=\"display:none;\">\n",
              "        \n",
              "  <svg xmlns=\"http://www.w3.org/2000/svg\" height=\"24px\"viewBox=\"0 0 24 24\"\n",
              "       width=\"24px\">\n",
              "    <path d=\"M0 0h24v24H0V0z\" fill=\"none\"/>\n",
              "    <path d=\"M18.56 5.44l.94 2.06.94-2.06 2.06-.94-2.06-.94-.94-2.06-.94 2.06-2.06.94zm-11 1L8.5 8.5l.94-2.06 2.06-.94-2.06-.94L8.5 2.5l-.94 2.06-2.06.94zm10 10l.94 2.06.94-2.06 2.06-.94-2.06-.94-.94-2.06-.94 2.06-2.06.94z\"/><path d=\"M17.41 7.96l-1.37-1.37c-.4-.4-.92-.59-1.43-.59-.52 0-1.04.2-1.43.59L10.3 9.45l-7.72 7.72c-.78.78-.78 2.05 0 2.83L4 21.41c.39.39.9.59 1.41.59.51 0 1.02-.2 1.41-.59l7.78-7.78 2.81-2.81c.8-.78.8-2.07 0-2.86zM5.41 20L4 18.59l7.72-7.72 1.47 1.35L5.41 20z\"/>\n",
              "  </svg>\n",
              "      </button>\n",
              "      \n",
              "  <style>\n",
              "    .colab-df-container {\n",
              "      display:flex;\n",
              "      flex-wrap:wrap;\n",
              "      gap: 12px;\n",
              "    }\n",
              "\n",
              "    .colab-df-convert {\n",
              "      background-color: #E8F0FE;\n",
              "      border: none;\n",
              "      border-radius: 50%;\n",
              "      cursor: pointer;\n",
              "      display: none;\n",
              "      fill: #1967D2;\n",
              "      height: 32px;\n",
              "      padding: 0 0 0 0;\n",
              "      width: 32px;\n",
              "    }\n",
              "\n",
              "    .colab-df-convert:hover {\n",
              "      background-color: #E2EBFA;\n",
              "      box-shadow: 0px 1px 2px rgba(60, 64, 67, 0.3), 0px 1px 3px 1px rgba(60, 64, 67, 0.15);\n",
              "      fill: #174EA6;\n",
              "    }\n",
              "\n",
              "    [theme=dark] .colab-df-convert {\n",
              "      background-color: #3B4455;\n",
              "      fill: #D2E3FC;\n",
              "    }\n",
              "\n",
              "    [theme=dark] .colab-df-convert:hover {\n",
              "      background-color: #434B5C;\n",
              "      box-shadow: 0px 1px 3px 1px rgba(0, 0, 0, 0.15);\n",
              "      filter: drop-shadow(0px 1px 2px rgba(0, 0, 0, 0.3));\n",
              "      fill: #FFFFFF;\n",
              "    }\n",
              "  </style>\n",
              "\n",
              "      <script>\n",
              "        const buttonEl =\n",
              "          document.querySelector('#df-2de33b2a-546b-43e0-87fe-47aa86533d57 button.colab-df-convert');\n",
              "        buttonEl.style.display =\n",
              "          google.colab.kernel.accessAllowed ? 'block' : 'none';\n",
              "\n",
              "        async function convertToInteractive(key) {\n",
              "          const element = document.querySelector('#df-2de33b2a-546b-43e0-87fe-47aa86533d57');\n",
              "          const dataTable =\n",
              "            await google.colab.kernel.invokeFunction('convertToInteractive',\n",
              "                                                     [key], {});\n",
              "          if (!dataTable) return;\n",
              "\n",
              "          const docLinkHtml = 'Like what you see? Visit the ' +\n",
              "            '<a target=\"_blank\" href=https://colab.research.google.com/notebooks/data_table.ipynb>data table notebook</a>'\n",
              "            + ' to learn more about interactive tables.';\n",
              "          element.innerHTML = '';\n",
              "          dataTable['output_type'] = 'display_data';\n",
              "          await google.colab.output.renderOutput(dataTable, element);\n",
              "          const docLink = document.createElement('div');\n",
              "          docLink.innerHTML = docLinkHtml;\n",
              "          element.appendChild(docLink);\n",
              "        }\n",
              "      </script>\n",
              "    </div>\n",
              "  </div>\n",
              "  "
            ]
          },
          "metadata": {},
          "execution_count": 9
        }
      ]
    },
    {
      "cell_type": "code",
      "source": [
        "# Inspecting some of the reviews\n",
        "for i in range(5):\n",
        "    print(\"Review #\",i+1)\n",
        "    print(reviews.Summary[i])\n",
        "    print(reviews.Text[i])\n",
        "    print()"
      ],
      "metadata": {
        "editable": false,
        "execution": {
          "iopub.status.busy": "2022-04-13T03:48:15.018532Z",
          "iopub.execute_input": "2022-04-13T03:48:15.019385Z",
          "iopub.status.idle": "2022-04-13T03:48:15.030947Z",
          "shell.execute_reply.started": "2022-04-13T03:48:15.019348Z",
          "shell.execute_reply": "2022-04-13T03:48:15.030043Z"
        },
        "trusted": true,
        "id": "itLFLyTZVjR-",
        "colab": {
          "base_uri": "https://localhost:8080/"
        },
        "outputId": "689d1249-36f0-42c4-e6e7-22493e42c14c"
      },
      "execution_count": null,
      "outputs": [
        {
          "output_type": "stream",
          "name": "stdout",
          "text": [
            "Review # 1\n",
            "Good Quality Dog Food\n",
            "I have bought several of the Vitality canned dog food products and have found them all to be of good quality. The product looks more like a stew than a processed meat and it smells better. My Labrador is finicky and she appreciates this product better than  most.\n",
            "\n",
            "Review # 2\n",
            "Not as Advertised\n",
            "Product arrived labeled as Jumbo Salted Peanuts...the peanuts were actually small sized unsalted. Not sure if this was an error or if the vendor intended to represent the product as \"Jumbo\".\n",
            "\n",
            "Review # 3\n",
            "\"Delight\" says it all\n",
            "This is a confection that has been around a few centuries.  It is a light, pillowy citrus gelatin with nuts - in this case Filberts. And it is cut into tiny squares and then liberally coated with powdered sugar.  And it is a tiny mouthful of heaven.  Not too chewy, and very flavorful.  I highly recommend this yummy treat.  If you are familiar with the story of C.S. Lewis' \"The Lion, The Witch, and The Wardrobe\" - this is the treat that seduces Edmund into selling out his Brother and Sisters to the Witch.\n",
            "\n",
            "Review # 4\n",
            "Cough Medicine\n",
            "If you are looking for the secret ingredient in Robitussin I believe I have found it.  I got this in addition to the Root Beer Extract I ordered (which was good) and made some cherry soda.  The flavor is very medicinal.\n",
            "\n",
            "Review # 5\n",
            "Great taffy\n",
            "Great taffy at a great price.  There was a wide assortment of yummy taffy.  Delivery was very quick.  If your a taffy lover, this is a deal.\n",
            "\n"
          ]
        }
      ]
    },
    {
      "cell_type": "markdown",
      "source": [
        "## Preparing Dataset"
      ],
      "metadata": {
        "editable": false,
        "id": "tf-DwV2OVjR_"
      }
    },
    {
      "cell_type": "markdown",
      "source": [
        "### 1. Expanding contractions"
      ],
      "metadata": {
        "editable": false,
        "id": "97FlhzOMVjR_"
      }
    },
    {
      "cell_type": "code",
      "source": [
        "contractions = { \n",
        "\"ain't\": \"am not\",\n",
        "\"aren't\": \"are not\",\n",
        "\"can't\": \"cannot\",\n",
        "\"can't've\": \"cannot have\",\n",
        "\"'cause\": \"because\",\n",
        "\"could've\": \"could have\",\n",
        "\"couldn't\": \"could not\",\n",
        "\"couldn't've\": \"could not have\",\n",
        "\"didn't\": \"did not\",\n",
        "\"doesn't\": \"does not\",\n",
        "\"don't\": \"do not\",\n",
        "\"hadn't\": \"had not\",\n",
        "\"hadn't've\": \"had not have\",\n",
        "\"hasn't\": \"has not\",\n",
        "\"haven't\": \"have not\",\n",
        "\"he'd\": \"he would\",\n",
        "\"he'd've\": \"he would have\",\n",
        "\"he'll\": \"he will\",\n",
        "\"he's\": \"he is\",\n",
        "\"how'd\": \"how did\",\n",
        "\"how'll\": \"how will\",\n",
        "\"how's\": \"how is\",\n",
        "\"i'd\": \"i would\",\n",
        "\"i'll\": \"i will\",\n",
        "\"i'm\": \"i am\",\n",
        "\"i've\": \"i have\",\n",
        "\"isn't\": \"is not\",\n",
        "\"it'd\": \"it would\",\n",
        "\"it'll\": \"it will\",\n",
        "\"it's\": \"it is\",\n",
        "\"let's\": \"let us\",\n",
        "\"ma'am\": \"madam\",\n",
        "\"mayn't\": \"may not\",\n",
        "\"might've\": \"might have\",\n",
        "\"mightn't\": \"might not\",\n",
        "\"must've\": \"must have\",\n",
        "\"mustn't\": \"must not\",\n",
        "\"needn't\": \"need not\",\n",
        "\"oughtn't\": \"ought not\",\n",
        "\"shan't\": \"shall not\",\n",
        "\"sha'n't\": \"shall not\",\n",
        "\"she'd\": \"she would\",\n",
        "\"she'll\": \"she will\",\n",
        "\"she's\": \"she is\",\n",
        "\"should've\": \"should have\",\n",
        "\"shouldn't\": \"should not\",\n",
        "\"that'd\": \"that would\",\n",
        "\"that's\": \"that is\",\n",
        "\"there'd\": \"there had\",\n",
        "\"there's\": \"there is\",\n",
        "\"they'd\": \"they would\",\n",
        "\"they'll\": \"they will\",\n",
        "\"they're\": \"they are\",\n",
        "\"they've\": \"they have\",\n",
        "\"wasn't\": \"was not\",\n",
        "\"we'd\": \"we would\",\n",
        "\"we'll\": \"we will\",\n",
        "\"we're\": \"we are\",\n",
        "\"we've\": \"we have\",\n",
        "\"weren't\": \"were not\",\n",
        "\"what'll\": \"what will\",\n",
        "\"what're\": \"what are\",\n",
        "\"what's\": \"what is\",\n",
        "\"what've\": \"what have\",\n",
        "\"where'd\": \"where did\",\n",
        "\"where's\": \"where is\",\n",
        "\"who'll\": \"who will\",\n",
        "\"who's\": \"who is\",\n",
        "\"won't\": \"will not\",\n",
        "\"wouldn't\": \"would not\",\n",
        "\"you'd\": \"you would\",\n",
        "\"you'll\": \"you will\",\n",
        "\"you're\": \"you are\"\n",
        "}"
      ],
      "metadata": {
        "editable": false,
        "execution": {
          "iopub.status.busy": "2022-04-13T03:48:15.032372Z",
          "iopub.execute_input": "2022-04-13T03:48:15.032621Z",
          "iopub.status.idle": "2022-04-13T03:48:15.043224Z",
          "shell.execute_reply.started": "2022-04-13T03:48:15.032588Z",
          "shell.execute_reply": "2022-04-13T03:48:15.042476Z"
        },
        "trusted": true,
        "id": "4y06XIYRVjSA"
      },
      "execution_count": null,
      "outputs": []
    },
    {
      "cell_type": "code",
      "source": [
        "contractions.get(\"an't\")"
      ],
      "metadata": {
        "editable": false,
        "execution": {
          "iopub.status.busy": "2022-04-13T03:48:15.047346Z",
          "iopub.execute_input": "2022-04-13T03:48:15.047856Z",
          "iopub.status.idle": "2022-04-13T03:48:15.054438Z",
          "shell.execute_reply.started": "2022-04-13T03:48:15.047811Z",
          "shell.execute_reply": "2022-04-13T03:48:15.053601Z"
        },
        "trusted": true,
        "id": "cJQeE1cvVjSB"
      },
      "execution_count": null,
      "outputs": []
    },
    {
      "cell_type": "markdown",
      "source": [
        "### 2. Text Pre-processing"
      ],
      "metadata": {
        "editable": false,
        "id": "Dq2E5tF9VjSB"
      }
    },
    {
      "cell_type": "code",
      "source": [
        "def clean_text(text, remove_stopwords = True):\n",
        "    '''Remove unwanted characters, stopwords, and format the text to create fewer nulls word embeddings'''\n",
        "    \n",
        "    # Convert to lowecase\n",
        "    text=text.lower()\n",
        "    \n",
        "    # Replace contractions with their longer forms\n",
        "    text=text.split()\n",
        "    new_text=[]\n",
        "    for word in text:\n",
        "        if word in contractions:\n",
        "            new_text.append(contractions[word])\n",
        "        else:\n",
        "            new_text.append(word)\n",
        "    \n",
        "    text=\" \".join(new_text)\n",
        "    \n",
        "    # Format words and remove unwanted characters\n",
        "    \n",
        "    text = re.sub(r'https?:\\/\\/.*[\\r\\n]*', '', text, flags=re.MULTILINE)\n",
        "    text = re.sub(r'\\<a href', ' ', text)\n",
        "    text = re.sub(r'&amp;', '', text) \n",
        "    text = re.sub(r'[_\"\\-;%()|+&=*%.,!?:<>#$@\\[\\]/]', ' ', text)\n",
        "    text = re.sub(r'<br />', ' ', text)\n",
        "    text = re.sub(r'\\'', ' ', text)\n",
        "    \n",
        "    # Optionally, remove stop words\n",
        "    if remove_stopwords:\n",
        "        text = text.split()\n",
        "        stops = set(stopwords.words(\"english\"))\n",
        "        text = [w for w in text if not w in stops]\n",
        "        text = \" \".join(text)\n",
        "\n",
        "    return text\n",
        "\n"
      ],
      "metadata": {
        "editable": false,
        "execution": {
          "iopub.status.busy": "2022-04-13T03:48:15.055732Z",
          "iopub.execute_input": "2022-04-13T03:48:15.056119Z",
          "iopub.status.idle": "2022-04-13T03:48:15.066930Z",
          "shell.execute_reply.started": "2022-04-13T03:48:15.056084Z",
          "shell.execute_reply": "2022-04-13T03:48:15.066144Z"
        },
        "trusted": true,
        "id": "wXCPi_xrVjSB"
      },
      "execution_count": null,
      "outputs": []
    },
    {
      "cell_type": "markdown",
      "source": [
        "We will remove the stopwords from the texts because they do not provide much use for training our model. However, we will keep them for our summaries so that they sound more like natural phrases"
      ],
      "metadata": {
        "editable": false,
        "id": "VvXr7sK3VjSC"
      }
    },
    {
      "cell_type": "code",
      "source": [
        "# Clean the summaries and texts\n",
        "reviews['Summary']=reviews['Summary'].apply(lambda text: clean_text(text,False))\n",
        "\n",
        "reviews['Text']=reviews['Text'].apply(lambda text: clean_text(text,True))"
      ],
      "metadata": {
        "editable": false,
        "execution": {
          "iopub.status.busy": "2022-04-13T03:48:15.068341Z",
          "iopub.execute_input": "2022-04-13T03:48:15.068606Z",
          "iopub.status.idle": "2022-04-13T03:50:15.702880Z",
          "shell.execute_reply.started": "2022-04-13T03:48:15.068571Z",
          "shell.execute_reply": "2022-04-13T03:50:15.702147Z"
        },
        "trusted": true,
        "id": "oqDgqeSdVjSC"
      },
      "execution_count": null,
      "outputs": []
    },
    {
      "cell_type": "code",
      "source": [
        "# Inspecting some of the reviews\n",
        "for i in range(5):\n",
        "    print(\"Review #\",i+1)\n",
        "    print(reviews.Summary[i])\n",
        "    print(reviews.Text[i])\n",
        "    print()"
      ],
      "metadata": {
        "editable": false,
        "execution": {
          "iopub.status.busy": "2022-04-13T03:50:15.704443Z",
          "iopub.execute_input": "2022-04-13T03:50:15.704728Z",
          "iopub.status.idle": "2022-04-13T03:50:15.715885Z",
          "shell.execute_reply.started": "2022-04-13T03:50:15.704679Z",
          "shell.execute_reply": "2022-04-13T03:50:15.713778Z"
        },
        "trusted": true,
        "id": "sWkiwJ31VjSC",
        "colab": {
          "base_uri": "https://localhost:8080/"
        },
        "outputId": "62bed675-819b-4053-a0da-20db57ae02df"
      },
      "execution_count": null,
      "outputs": [
        {
          "output_type": "stream",
          "name": "stdout",
          "text": [
            "Review # 1\n",
            "good quality dog food\n",
            "bought several vitality canned dog food products found good quality product looks like stew processed meat smells better labrador finicky appreciates product better\n",
            "\n",
            "Review # 2\n",
            "not as advertised\n",
            "product arrived labeled jumbo salted peanuts peanuts actually small sized unsalted sure error vendor intended represent product jumbo\n",
            "\n",
            "Review # 3\n",
            " delight  says it all\n",
            "confection around centuries light pillowy citrus gelatin nuts case filberts cut tiny squares liberally coated powdered sugar tiny mouthful heaven chewy flavorful highly recommend yummy treat familiar story c lewis lion witch wardrobe treat seduces edmund selling brother sisters witch\n",
            "\n",
            "Review # 4\n",
            "cough medicine\n",
            "looking secret ingredient robitussin believe found got addition root beer extract ordered good made cherry soda flavor medicinal\n",
            "\n",
            "Review # 5\n",
            "great taffy\n",
            "great taffy great price wide assortment yummy taffy delivery quick taffy lover deal\n",
            "\n"
          ]
        }
      ]
    },
    {
      "cell_type": "markdown",
      "source": [
        "### What are the things being talked about in the reviews?\n",
        "\n",
        "Let's first try a simple word counter, and see the top 10 words?"
      ],
      "metadata": {
        "editable": false,
        "id": "KtXWRRFwVjSD"
      }
    },
    {
      "cell_type": "code",
      "source": [
        "from collections import Counter\n",
        "def flatten(list_of_list):\n",
        "    flat_list=[]\n",
        "    for l in list_of_list:\n",
        "        flat_list.extend(l)\n",
        "    return flat_list"
      ],
      "metadata": {
        "editable": false,
        "execution": {
          "iopub.status.busy": "2022-04-13T03:50:15.717499Z",
          "iopub.execute_input": "2022-04-13T03:50:15.717833Z",
          "iopub.status.idle": "2022-04-13T03:50:15.722655Z",
          "shell.execute_reply.started": "2022-04-13T03:50:15.717798Z",
          "shell.execute_reply": "2022-04-13T03:50:15.721985Z"
        },
        "trusted": true,
        "id": "Wy5gfnocVjSD"
      },
      "execution_count": null,
      "outputs": []
    },
    {
      "cell_type": "code",
      "source": [
        "from nltk.tokenize import word_tokenize\n",
        "from wordcloud import WordCloud\n",
        "from matplotlib import pyplot as plt\n",
        "\n",
        "def wordcloud_plot(counter_all):\n",
        "    w=WordCloud().generate_from_frequencies(frequencies=dict(counter_all))\n",
        "    plt.imshow(w)\n",
        "    \n",
        "def tokenize(text):\n",
        "    tokens=[w for w in word_tokenize(text.lower())]\n",
        "    return tokens"
      ],
      "metadata": {
        "editable": false,
        "execution": {
          "iopub.status.busy": "2022-04-13T03:50:15.724020Z",
          "iopub.execute_input": "2022-04-13T03:50:15.724572Z",
          "iopub.status.idle": "2022-04-13T03:50:15.765742Z",
          "shell.execute_reply.started": "2022-04-13T03:50:15.724531Z",
          "shell.execute_reply": "2022-04-13T03:50:15.765076Z"
        },
        "trusted": true,
        "id": "kMLvgRbGVjSD"
      },
      "execution_count": null,
      "outputs": []
    },
    {
      "cell_type": "code",
      "source": [
        "counter_all=Counter(flatten(reviews[\"Text\"].apply(tokenize).tolist()))\n",
        "counter_all.most_common(10)"
      ],
      "metadata": {
        "editable": false,
        "execution": {
          "iopub.status.busy": "2022-04-13T03:50:15.767049Z",
          "iopub.execute_input": "2022-04-13T03:50:15.767585Z",
          "iopub.status.idle": "2022-04-13T03:54:19.760021Z",
          "shell.execute_reply.started": "2022-04-13T03:50:15.767551Z",
          "shell.execute_reply": "2022-04-13T03:54:19.759139Z"
        },
        "trusted": true,
        "id": "co6JE90EVjSD",
        "colab": {
          "base_uri": "https://localhost:8080/"
        },
        "outputId": "8d1d9275-3661-45ca-ec02-c256c0fe7520"
      },
      "execution_count": null,
      "outputs": [
        {
          "output_type": "execute_result",
          "data": {
            "text/plain": [
              "[('br', 619519),\n",
              " ('like', 251926),\n",
              " ('good', 197507),\n",
              " ('one', 173492),\n",
              " ('taste', 170099),\n",
              " ('great', 165073),\n",
              " ('coffee', 160798),\n",
              " ('would', 157769),\n",
              " ('product', 149531),\n",
              " ('flavor', 144816)]"
            ]
          },
          "metadata": {},
          "execution_count": 18
        }
      ]
    },
    {
      "cell_type": "code",
      "source": [
        "wordcloud_plot(counter_all)"
      ],
      "metadata": {
        "editable": false,
        "execution": {
          "iopub.status.busy": "2022-04-13T03:54:19.761618Z",
          "iopub.execute_input": "2022-04-13T03:54:19.761919Z",
          "iopub.status.idle": "2022-04-13T03:54:20.650576Z",
          "shell.execute_reply.started": "2022-04-13T03:54:19.761883Z",
          "shell.execute_reply": "2022-04-13T03:54:20.649900Z"
        },
        "trusted": true,
        "id": "2xJJFFm-VjSE",
        "colab": {
          "base_uri": "https://localhost:8080/",
          "height": 219
        },
        "outputId": "9cd79e69-e0d8-49d2-f660-5e4e82b52317"
      },
      "execution_count": null,
      "outputs": [
        {
          "output_type": "display_data",
          "data": {
            "text/plain": [
              "<Figure size 432x288 with 1 Axes>"
            ],
            "image/png": "[encoded data removed]"
          },
          "metadata": {
            "needs_background": "light"
          }
        }
      ]
    },
    {
      "cell_type": "code",
      "source": [
        "def count_words(count_dict, text):\n",
        "    '''Count the number of occurrences of each word in a set of text'''\n",
        "    for sentence in text:\n",
        "        for word in sentence.split():\n",
        "            if word not in count_dict:\n",
        "                count_dict[word] = 1\n",
        "            else:\n",
        "                count_dict[word] += 1"
      ],
      "metadata": {
        "editable": false,
        "execution": {
          "iopub.status.busy": "2022-04-13T03:54:20.651547Z",
          "iopub.execute_input": "2022-04-13T03:54:20.651764Z",
          "iopub.status.idle": "2022-04-13T03:54:20.657730Z",
          "shell.execute_reply.started": "2022-04-13T03:54:20.651731Z",
          "shell.execute_reply": "2022-04-13T03:54:20.657083Z"
        },
        "trusted": true,
        "id": "d114bPbDVjSE"
      },
      "execution_count": null,
      "outputs": []
    },
    {
      "cell_type": "code",
      "source": [
        "reviews.head()"
      ],
      "metadata": {
        "editable": false,
        "execution": {
          "iopub.status.busy": "2022-04-13T03:54:20.658907Z",
          "iopub.execute_input": "2022-04-13T03:54:20.659308Z",
          "iopub.status.idle": "2022-04-13T03:54:20.672773Z",
          "shell.execute_reply.started": "2022-04-13T03:54:20.659274Z",
          "shell.execute_reply": "2022-04-13T03:54:20.671745Z"
        },
        "trusted": true,
        "id": "Lrk-Uw1jVjSE",
        "colab": {
          "base_uri": "https://localhost:8080/",
          "height": 206
        },
        "outputId": "128b3154-41ea-46c6-c895-69678568dd2d"
      },
      "execution_count": null,
      "outputs": [
        {
          "output_type": "execute_result",
          "data": {
            "text/plain": [
              "                 Summary                                               Text\n",
              "0  good quality dog food  bought several vitality canned dog food produc...\n",
              "1      not as advertised  product arrived labeled jumbo salted peanuts p...\n",
              "2   delight  says it all  confection around centuries light pillowy citr...\n",
              "3         cough medicine  looking secret ingredient robitussin believe f...\n",
              "4            great taffy  great taffy great price wide assortment yummy ..."
            ],
            "text/html": [
              "\n",
              "  <div id=\"df-2ed7de94-4000-4cb9-905e-cf38eded77f5\">\n",
              "    <div class=\"colab-df-container\">\n",
              "      <div>\n",
              "<style scoped>\n",
              "    .dataframe tbody tr th:only-of-type {\n",
              "        vertical-align: middle;\n",
              "    }\n",
              "\n",
              "    .dataframe tbody tr th {\n",
              "        vertical-align: top;\n",
              "    }\n",
              "\n",
              "    .dataframe thead th {\n",
              "        text-align: right;\n",
              "    }\n",
              "</style>\n",
              "<table border=\"1\" class=\"dataframe\">\n",
              "  <thead>\n",
              "    <tr style=\"text-align: right;\">\n",
              "      <th></th>\n",
              "      <th>Summary</th>\n",
              "      <th>Text</th>\n",
              "    </tr>\n",
              "  </thead>\n",
              "  <tbody>\n",
              "    <tr>\n",
              "      <th>0</th>\n",
              "      <td>good quality dog food</td>\n",
              "      <td>bought several vitality canned dog food produc...</td>\n",
              "    </tr>\n",
              "    <tr>\n",
              "      <th>1</th>\n",
              "      <td>not as advertised</td>\n",
              "      <td>product arrived labeled jumbo salted peanuts p...</td>\n",
              "    </tr>\n",
              "    <tr>\n",
              "      <th>2</th>\n",
              "      <td>delight  says it all</td>\n",
              "      <td>confection around centuries light pillowy citr...</td>\n",
              "    </tr>\n",
              "    <tr>\n",
              "      <th>3</th>\n",
              "      <td>cough medicine</td>\n",
              "      <td>looking secret ingredient robitussin believe f...</td>\n",
              "    </tr>\n",
              "    <tr>\n",
              "      <th>4</th>\n",
              "      <td>great taffy</td>\n",
              "      <td>great taffy great price wide assortment yummy ...</td>\n",
              "    </tr>\n",
              "  </tbody>\n",
              "</table>\n",
              "</div>\n",
              "      <button class=\"colab-df-convert\" onclick=\"convertToInteractive('df-2ed7de94-4000-4cb9-905e-cf38eded77f5')\"\n",
              "              title=\"Convert this dataframe to an interactive table.\"\n",
              "              style=\"display:none;\">\n",
              "        \n",
              "  <svg xmlns=\"http://www.w3.org/2000/svg\" height=\"24px\"viewBox=\"0 0 24 24\"\n",
              "       width=\"24px\">\n",
              "    <path d=\"M0 0h24v24H0V0z\" fill=\"none\"/>\n",
              "    <path d=\"M18.56 5.44l.94 2.06.94-2.06 2.06-.94-2.06-.94-.94-2.06-.94 2.06-2.06.94zm-11 1L8.5 8.5l.94-2.06 2.06-.94-2.06-.94L8.5 2.5l-.94 2.06-2.06.94zm10 10l.94 2.06.94-2.06 2.06-.94-2.06-.94-.94-2.06-.94 2.06-2.06.94z\"/><path d=\"M17.41 7.96l-1.37-1.37c-.4-.4-.92-.59-1.43-.59-.52 0-1.04.2-1.43.59L10.3 9.45l-7.72 7.72c-.78.78-.78 2.05 0 2.83L4 21.41c.39.39.9.59 1.41.59.51 0 1.02-.2 1.41-.59l7.78-7.78 2.81-2.81c.8-.78.8-2.07 0-2.86zM5.41 20L4 18.59l7.72-7.72 1.47 1.35L5.41 20z\"/>\n",
              "  </svg>\n",
              "      </button>\n",
              "      \n",
              "  <style>\n",
              "    .colab-df-container {\n",
              "      display:flex;\n",
              "      flex-wrap:wrap;\n",
              "      gap: 12px;\n",
              "    }\n",
              "\n",
              "    .colab-df-convert {\n",
              "      background-color: #E8F0FE;\n",
              "      border: none;\n",
              "      border-radius: 50%;\n",
              "      cursor: pointer;\n",
              "      display: none;\n",
              "      fill: #1967D2;\n",
              "      height: 32px;\n",
              "      padding: 0 0 0 0;\n",
              "      width: 32px;\n",
              "    }\n",
              "\n",
              "    .colab-df-convert:hover {\n",
              "      background-color: #E2EBFA;\n",
              "      box-shadow: 0px 1px 2px rgba(60, 64, 67, 0.3), 0px 1px 3px 1px rgba(60, 64, 67, 0.15);\n",
              "      fill: #174EA6;\n",
              "    }\n",
              "\n",
              "    [theme=dark] .colab-df-convert {\n",
              "      background-color: #3B4455;\n",
              "      fill: #D2E3FC;\n",
              "    }\n",
              "\n",
              "    [theme=dark] .colab-df-convert:hover {\n",
              "      background-color: #434B5C;\n",
              "      box-shadow: 0px 1px 3px 1px rgba(0, 0, 0, 0.15);\n",
              "      filter: drop-shadow(0px 1px 2px rgba(0, 0, 0, 0.3));\n",
              "      fill: #FFFFFF;\n",
              "    }\n",
              "  </style>\n",
              "\n",
              "      <script>\n",
              "        const buttonEl =\n",
              "          document.querySelector('#df-2ed7de94-4000-4cb9-905e-cf38eded77f5 button.colab-df-convert');\n",
              "        buttonEl.style.display =\n",
              "          google.colab.kernel.accessAllowed ? 'block' : 'none';\n",
              "\n",
              "        async function convertToInteractive(key) {\n",
              "          const element = document.querySelector('#df-2ed7de94-4000-4cb9-905e-cf38eded77f5');\n",
              "          const dataTable =\n",
              "            await google.colab.kernel.invokeFunction('convertToInteractive',\n",
              "                                                     [key], {});\n",
              "          if (!dataTable) return;\n",
              "\n",
              "          const docLinkHtml = 'Like what you see? Visit the ' +\n",
              "            '<a target=\"_blank\" href=https://colab.research.google.com/notebooks/data_table.ipynb>data table notebook</a>'\n",
              "            + ' to learn more about interactive tables.';\n",
              "          element.innerHTML = '';\n",
              "          dataTable['output_type'] = 'display_data';\n",
              "          await google.colab.output.renderOutput(dataTable, element);\n",
              "          const docLink = document.createElement('div');\n",
              "          docLink.innerHTML = docLinkHtml;\n",
              "          element.appendChild(docLink);\n",
              "        }\n",
              "      </script>\n",
              "    </div>\n",
              "  </div>\n",
              "  "
            ]
          },
          "metadata": {},
          "execution_count": 21
        }
      ]
    },
    {
      "cell_type": "code",
      "source": [
        "# Find the number of times each word was used and the size of the vocabulary\n",
        "word_counts = {}\n",
        "\n",
        "count_words(word_counts, reviews['Summary'])\n",
        "count_words(word_counts, reviews['Text'])\n",
        "            \n",
        "print(\"Size of Vocabulary:\", len(word_counts))"
      ],
      "metadata": {
        "editable": false,
        "execution": {
          "iopub.status.busy": "2022-04-13T03:54:20.674237Z",
          "iopub.execute_input": "2022-04-13T03:54:20.675078Z",
          "iopub.status.idle": "2022-04-13T03:54:29.028056Z",
          "shell.execute_reply.started": "2022-04-13T03:54:20.675041Z",
          "shell.execute_reply": "2022-04-13T03:54:29.027333Z"
        },
        "trusted": true,
        "id": "YPJvf2ZVVjSF",
        "colab": {
          "base_uri": "https://localhost:8080/"
        },
        "outputId": "71610657-ecc4-44a4-9021-d28afae6e193"
      },
      "execution_count": null,
      "outputs": [
        {
          "output_type": "stream",
          "name": "stdout",
          "text": [
            "Size of Vocabulary: 117969\n"
          ]
        }
      ]
    },
    {
      "cell_type": "code",
      "source": [
        "# # Find the number of words that are missing from CN, and are used more than our threshold.\n",
        "# missing_words = 0\n",
        "# threshold = 20\n",
        "\n",
        "# for word, count in word_counts.items():\n",
        "#     if count > threshold:\n",
        "#         if word not in embeddings_index:\n",
        "#             missing_words += 1\n",
        "            \n",
        "# missing_ratio = round(missing_words/len(word_counts),4)*100\n",
        "            \n",
        "# print(\"Number of words missing from CN:\", missing_words)\n",
        "# print(\"Percent of words that are missing from vocabulary: {}%\".format(missing_ratio))"
      ],
      "metadata": {
        "editable": false,
        "execution": {
          "iopub.status.busy": "2022-04-13T03:54:29.029289Z",
          "iopub.execute_input": "2022-04-13T03:54:29.029546Z",
          "iopub.status.idle": "2022-04-13T03:54:29.035057Z",
          "shell.execute_reply.started": "2022-04-13T03:54:29.029509Z",
          "shell.execute_reply": "2022-04-13T03:54:29.034232Z"
        },
        "trusted": true,
        "id": "aMRL3tXlVjSF"
      },
      "execution_count": null,
      "outputs": []
    },
    {
      "cell_type": "markdown",
      "source": [
        "### Add The start and end Token in summary"
      ],
      "metadata": {
        "editable": false,
        "id": "JejZzKzSVjSF"
      }
    },
    {
      "cell_type": "code",
      "source": [
        "reviews['Summary']=reviews['Summary'].apply(lambda x: 'START ' + x + ' END')\n",
        "reviews.head()"
      ],
      "metadata": {
        "editable": false,
        "execution": {
          "iopub.status.busy": "2022-04-13T03:54:29.036422Z",
          "iopub.execute_input": "2022-04-13T03:54:29.036688Z",
          "iopub.status.idle": "2022-04-13T03:54:29.266576Z",
          "shell.execute_reply.started": "2022-04-13T03:54:29.036654Z",
          "shell.execute_reply": "2022-04-13T03:54:29.265749Z"
        },
        "trusted": true,
        "id": "8ooqJj_XVjSF",
        "colab": {
          "base_uri": "https://localhost:8080/",
          "height": 206
        },
        "outputId": "2d18d90f-8693-413b-f047-b8935332e86f"
      },
      "execution_count": null,
      "outputs": [
        {
          "output_type": "execute_result",
          "data": {
            "text/plain": [
              "                           Summary  \\\n",
              "0  START good quality dog food END   \n",
              "1      START not as advertised END   \n",
              "2  START  delight  says it all END   \n",
              "3         START cough medicine END   \n",
              "4            START great taffy END   \n",
              "\n",
              "                                                Text  \n",
              "0  bought several vitality canned dog food produc...  \n",
              "1  product arrived labeled jumbo salted peanuts p...  \n",
              "2  confection around centuries light pillowy citr...  \n",
              "3  looking secret ingredient robitussin believe f...  \n",
              "4  great taffy great price wide assortment yummy ...  "
            ],
            "text/html": [
              "\n",
              "  <div id=\"df-fd5293b1-42bf-4977-8c72-c8e666c9e78f\">\n",
              "    <div class=\"colab-df-container\">\n",
              "      <div>\n",
              "<style scoped>\n",
              "    .dataframe tbody tr th:only-of-type {\n",
              "        vertical-align: middle;\n",
              "    }\n",
              "\n",
              "    .dataframe tbody tr th {\n",
              "        vertical-align: top;\n",
              "    }\n",
              "\n",
              "    .dataframe thead th {\n",
              "        text-align: right;\n",
              "    }\n",
              "</style>\n",
              "<table border=\"1\" class=\"dataframe\">\n",
              "  <thead>\n",
              "    <tr style=\"text-align: right;\">\n",
              "      <th></th>\n",
              "      <th>Summary</th>\n",
              "      <th>Text</th>\n",
              "    </tr>\n",
              "  </thead>\n",
              "  <tbody>\n",
              "    <tr>\n",
              "      <th>0</th>\n",
              "      <td>START good quality dog food END</td>\n",
              "      <td>bought several vitality canned dog food produc...</td>\n",
              "    </tr>\n",
              "    <tr>\n",
              "      <th>1</th>\n",
              "      <td>START not as advertised END</td>\n",
              "      <td>product arrived labeled jumbo salted peanuts p...</td>\n",
              "    </tr>\n",
              "    <tr>\n",
              "      <th>2</th>\n",
              "      <td>START  delight  says it all END</td>\n",
              "      <td>confection around centuries light pillowy citr...</td>\n",
              "    </tr>\n",
              "    <tr>\n",
              "      <th>3</th>\n",
              "      <td>START cough medicine END</td>\n",
              "      <td>looking secret ingredient robitussin believe f...</td>\n",
              "    </tr>\n",
              "    <tr>\n",
              "      <th>4</th>\n",
              "      <td>START great taffy END</td>\n",
              "      <td>great taffy great price wide assortment yummy ...</td>\n",
              "    </tr>\n",
              "  </tbody>\n",
              "</table>\n",
              "</div>\n",
              "      <button class=\"colab-df-convert\" onclick=\"convertToInteractive('df-fd5293b1-42bf-4977-8c72-c8e666c9e78f')\"\n",
              "              title=\"Convert this dataframe to an interactive table.\"\n",
              "              style=\"display:none;\">\n",
              "        \n",
              "  <svg xmlns=\"http://www.w3.org/2000/svg\" height=\"24px\"viewBox=\"0 0 24 24\"\n",
              "       width=\"24px\">\n",
              "    <path d=\"M0 0h24v24H0V0z\" fill=\"none\"/>\n",
              "    <path d=\"M18.56 5.44l.94 2.06.94-2.06 2.06-.94-2.06-.94-.94-2.06-.94 2.06-2.06.94zm-11 1L8.5 8.5l.94-2.06 2.06-.94-2.06-.94L8.5 2.5l-.94 2.06-2.06.94zm10 10l.94 2.06.94-2.06 2.06-.94-2.06-.94-.94-2.06-.94 2.06-2.06.94z\"/><path d=\"M17.41 7.96l-1.37-1.37c-.4-.4-.92-.59-1.43-.59-.52 0-1.04.2-1.43.59L10.3 9.45l-7.72 7.72c-.78.78-.78 2.05 0 2.83L4 21.41c.39.39.9.59 1.41.59.51 0 1.02-.2 1.41-.59l7.78-7.78 2.81-2.81c.8-.78.8-2.07 0-2.86zM5.41 20L4 18.59l7.72-7.72 1.47 1.35L5.41 20z\"/>\n",
              "  </svg>\n",
              "      </button>\n",
              "      \n",
              "  <style>\n",
              "    .colab-df-container {\n",
              "      display:flex;\n",
              "      flex-wrap:wrap;\n",
              "      gap: 12px;\n",
              "    }\n",
              "\n",
              "    .colab-df-convert {\n",
              "      background-color: #E8F0FE;\n",
              "      border: none;\n",
              "      border-radius: 50%;\n",
              "      cursor: pointer;\n",
              "      display: none;\n",
              "      fill: #1967D2;\n",
              "      height: 32px;\n",
              "      padding: 0 0 0 0;\n",
              "      width: 32px;\n",
              "    }\n",
              "\n",
              "    .colab-df-convert:hover {\n",
              "      background-color: #E2EBFA;\n",
              "      box-shadow: 0px 1px 2px rgba(60, 64, 67, 0.3), 0px 1px 3px 1px rgba(60, 64, 67, 0.15);\n",
              "      fill: #174EA6;\n",
              "    }\n",
              "\n",
              "    [theme=dark] .colab-df-convert {\n",
              "      background-color: #3B4455;\n",
              "      fill: #D2E3FC;\n",
              "    }\n",
              "\n",
              "    [theme=dark] .colab-df-convert:hover {\n",
              "      background-color: #434B5C;\n",
              "      box-shadow: 0px 1px 3px 1px rgba(0, 0, 0, 0.15);\n",
              "      filter: drop-shadow(0px 1px 2px rgba(0, 0, 0, 0.3));\n",
              "      fill: #FFFFFF;\n",
              "    }\n",
              "  </style>\n",
              "\n",
              "      <script>\n",
              "        const buttonEl =\n",
              "          document.querySelector('#df-fd5293b1-42bf-4977-8c72-c8e666c9e78f button.colab-df-convert');\n",
              "        buttonEl.style.display =\n",
              "          google.colab.kernel.accessAllowed ? 'block' : 'none';\n",
              "\n",
              "        async function convertToInteractive(key) {\n",
              "          const element = document.querySelector('#df-fd5293b1-42bf-4977-8c72-c8e666c9e78f');\n",
              "          const dataTable =\n",
              "            await google.colab.kernel.invokeFunction('convertToInteractive',\n",
              "                                                     [key], {});\n",
              "          if (!dataTable) return;\n",
              "\n",
              "          const docLinkHtml = 'Like what you see? Visit the ' +\n",
              "            '<a target=\"_blank\" href=https://colab.research.google.com/notebooks/data_table.ipynb>data table notebook</a>'\n",
              "            + ' to learn more about interactive tables.';\n",
              "          element.innerHTML = '';\n",
              "          dataTable['output_type'] = 'display_data';\n",
              "          await google.colab.output.renderOutput(dataTable, element);\n",
              "          const docLink = document.createElement('div');\n",
              "          docLink.innerHTML = docLinkHtml;\n",
              "          element.appendChild(docLink);\n",
              "        }\n",
              "      </script>\n",
              "    </div>\n",
              "  </div>\n",
              "  "
            ]
          },
          "metadata": {},
          "execution_count": 24
        }
      ]
    },
    {
      "cell_type": "code",
      "source": [
        "## Length of max words in  Text\n",
        "max([len(sentence.split()) for sentence in reviews['Text']])"
      ],
      "metadata": {
        "editable": false,
        "execution": {
          "iopub.status.busy": "2022-04-13T03:54:29.272869Z",
          "iopub.execute_input": "2022-04-13T03:54:29.274339Z",
          "iopub.status.idle": "2022-04-13T03:54:30.604768Z",
          "shell.execute_reply.started": "2022-04-13T03:54:29.274302Z",
          "shell.execute_reply": "2022-04-13T03:54:30.604092Z"
        },
        "trusted": true,
        "id": "yAbmTDwgVjSF",
        "colab": {
          "base_uri": "https://localhost:8080/"
        },
        "outputId": "5e7ff9eb-432a-4040-928f-92680e51f2b2"
      },
      "execution_count": null,
      "outputs": [
        {
          "output_type": "execute_result",
          "data": {
            "text/plain": [
              "2062"
            ]
          },
          "metadata": {},
          "execution_count": 25
        }
      ]
    },
    {
      "cell_type": "code",
      "source": [
        "# Another way\n",
        "res = reviews['Text'].str.split().str.len().max()\n",
        "res"
      ],
      "metadata": {
        "editable": false,
        "execution": {
          "iopub.status.busy": "2022-04-13T03:54:30.605914Z",
          "iopub.execute_input": "2022-04-13T03:54:30.606147Z",
          "iopub.status.idle": "2022-04-13T03:54:34.225788Z",
          "shell.execute_reply.started": "2022-04-13T03:54:30.606115Z",
          "shell.execute_reply": "2022-04-13T03:54:34.225088Z"
        },
        "trusted": true,
        "id": "UH_JGNHAVjSG",
        "colab": {
          "base_uri": "https://localhost:8080/"
        },
        "outputId": "8269a250-be0f-49de-bd39-c0d65b4ce888"
      },
      "execution_count": null,
      "outputs": [
        {
          "output_type": "execute_result",
          "data": {
            "text/plain": [
              "2062"
            ]
          },
          "metadata": {},
          "execution_count": 26
        }
      ]
    },
    {
      "cell_type": "code",
      "source": [
        "lengths = reviews[\"Text\"].str.len()\n",
        "argmax = np.where(lengths == lengths.max())[0]\n",
        "reviews.iloc[argmax]"
      ],
      "metadata": {
        "editable": false,
        "execution": {
          "iopub.status.busy": "2022-04-13T03:54:34.227010Z",
          "iopub.execute_input": "2022-04-13T03:54:34.227258Z",
          "iopub.status.idle": "2022-04-13T03:54:35.173832Z",
          "shell.execute_reply.started": "2022-04-13T03:54:34.227223Z",
          "shell.execute_reply": "2022-04-13T03:54:35.173057Z"
        },
        "trusted": true,
        "id": "-0e0q75wVjSG",
        "colab": {
          "base_uri": "https://localhost:8080/",
          "height": 143
        },
        "outputId": "4fd0e063-4ba3-416e-a92b-43e67638fbb3"
      },
      "execution_count": null,
      "outputs": [
        {
          "output_type": "execute_result",
          "data": {
            "text/plain": [
              "                                                  Summary  \\\n",
              "290789  START an okay filtered municipal tap water wit...   \n",
              "455358  START an okay filtered municipal tap water wit...   \n",
              "496714  START an okay filtered municipal tap water wit...   \n",
              "\n",
              "                                                     Text  \n",
              "290789  fuzzy wuzzy summary br somewhat recommended re...  \n",
              "455358  fuzzy wuzzy summary br somewhat recommended re...  \n",
              "496714  fuzzy wuzzy summary br somewhat recommended re...  "
            ],
            "text/html": [
              "\n",
              "  <div id=\"df-84430875-18cf-45ea-83f9-7407c4aa581c\">\n",
              "    <div class=\"colab-df-container\">\n",
              "      <div>\n",
              "<style scoped>\n",
              "    .dataframe tbody tr th:only-of-type {\n",
              "        vertical-align: middle;\n",
              "    }\n",
              "\n",
              "    .dataframe tbody tr th {\n",
              "        vertical-align: top;\n",
              "    }\n",
              "\n",
              "    .dataframe thead th {\n",
              "        text-align: right;\n",
              "    }\n",
              "</style>\n",
              "<table border=\"1\" class=\"dataframe\">\n",
              "  <thead>\n",
              "    <tr style=\"text-align: right;\">\n",
              "      <th></th>\n",
              "      <th>Summary</th>\n",
              "      <th>Text</th>\n",
              "    </tr>\n",
              "  </thead>\n",
              "  <tbody>\n",
              "    <tr>\n",
              "      <th>290789</th>\n",
              "      <td>START an okay filtered municipal tap water wit...</td>\n",
              "      <td>fuzzy wuzzy summary br somewhat recommended re...</td>\n",
              "    </tr>\n",
              "    <tr>\n",
              "      <th>455358</th>\n",
              "      <td>START an okay filtered municipal tap water wit...</td>\n",
              "      <td>fuzzy wuzzy summary br somewhat recommended re...</td>\n",
              "    </tr>\n",
              "    <tr>\n",
              "      <th>496714</th>\n",
              "      <td>START an okay filtered municipal tap water wit...</td>\n",
              "      <td>fuzzy wuzzy summary br somewhat recommended re...</td>\n",
              "    </tr>\n",
              "  </tbody>\n",
              "</table>\n",
              "</div>\n",
              "      <button class=\"colab-df-convert\" onclick=\"convertToInteractive('df-84430875-18cf-45ea-83f9-7407c4aa581c')\"\n",
              "              title=\"Convert this dataframe to an interactive table.\"\n",
              "              style=\"display:none;\">\n",
              "        \n",
              "  <svg xmlns=\"http://www.w3.org/2000/svg\" height=\"24px\"viewBox=\"0 0 24 24\"\n",
              "       width=\"24px\">\n",
              "    <path d=\"M0 0h24v24H0V0z\" fill=\"none\"/>\n",
              "    <path d=\"M18.56 5.44l.94 2.06.94-2.06 2.06-.94-2.06-.94-.94-2.06-.94 2.06-2.06.94zm-11 1L8.5 8.5l.94-2.06 2.06-.94-2.06-.94L8.5 2.5l-.94 2.06-2.06.94zm10 10l.94 2.06.94-2.06 2.06-.94-2.06-.94-.94-2.06-.94 2.06-2.06.94z\"/><path d=\"M17.41 7.96l-1.37-1.37c-.4-.4-.92-.59-1.43-.59-.52 0-1.04.2-1.43.59L10.3 9.45l-7.72 7.72c-.78.78-.78 2.05 0 2.83L4 21.41c.39.39.9.59 1.41.59.51 0 1.02-.2 1.41-.59l7.78-7.78 2.81-2.81c.8-.78.8-2.07 0-2.86zM5.41 20L4 18.59l7.72-7.72 1.47 1.35L5.41 20z\"/>\n",
              "  </svg>\n",
              "      </button>\n",
              "      \n",
              "  <style>\n",
              "    .colab-df-container {\n",
              "      display:flex;\n",
              "      flex-wrap:wrap;\n",
              "      gap: 12px;\n",
              "    }\n",
              "\n",
              "    .colab-df-convert {\n",
              "      background-color: #E8F0FE;\n",
              "      border: none;\n",
              "      border-radius: 50%;\n",
              "      cursor: pointer;\n",
              "      display: none;\n",
              "      fill: #1967D2;\n",
              "      height: 32px;\n",
              "      padding: 0 0 0 0;\n",
              "      width: 32px;\n",
              "    }\n",
              "\n",
              "    .colab-df-convert:hover {\n",
              "      background-color: #E2EBFA;\n",
              "      box-shadow: 0px 1px 2px rgba(60, 64, 67, 0.3), 0px 1px 3px 1px rgba(60, 64, 67, 0.15);\n",
              "      fill: #174EA6;\n",
              "    }\n",
              "\n",
              "    [theme=dark] .colab-df-convert {\n",
              "      background-color: #3B4455;\n",
              "      fill: #D2E3FC;\n",
              "    }\n",
              "\n",
              "    [theme=dark] .colab-df-convert:hover {\n",
              "      background-color: #434B5C;\n",
              "      box-shadow: 0px 1px 3px 1px rgba(0, 0, 0, 0.15);\n",
              "      filter: drop-shadow(0px 1px 2px rgba(0, 0, 0, 0.3));\n",
              "      fill: #FFFFFF;\n",
              "    }\n",
              "  </style>\n",
              "\n",
              "      <script>\n",
              "        const buttonEl =\n",
              "          document.querySelector('#df-84430875-18cf-45ea-83f9-7407c4aa581c button.colab-df-convert');\n",
              "        buttonEl.style.display =\n",
              "          google.colab.kernel.accessAllowed ? 'block' : 'none';\n",
              "\n",
              "        async function convertToInteractive(key) {\n",
              "          const element = document.querySelector('#df-84430875-18cf-45ea-83f9-7407c4aa581c');\n",
              "          const dataTable =\n",
              "            await google.colab.kernel.invokeFunction('convertToInteractive',\n",
              "                                                     [key], {});\n",
              "          if (!dataTable) return;\n",
              "\n",
              "          const docLinkHtml = 'Like what you see? Visit the ' +\n",
              "            '<a target=\"_blank\" href=https://colab.research.google.com/notebooks/data_table.ipynb>data table notebook</a>'\n",
              "            + ' to learn more about interactive tables.';\n",
              "          element.innerHTML = '';\n",
              "          dataTable['output_type'] = 'display_data';\n",
              "          await google.colab.output.renderOutput(dataTable, element);\n",
              "          const docLink = document.createElement('div');\n",
              "          docLink.innerHTML = docLinkHtml;\n",
              "          element.appendChild(docLink);\n",
              "        }\n",
              "      </script>\n",
              "    </div>\n",
              "  </div>\n",
              "  "
            ]
          },
          "metadata": {},
          "execution_count": 27
        }
      ]
    },
    {
      "cell_type": "markdown",
      "source": [
        "There are 3 Text of max length."
      ],
      "metadata": {
        "editable": false,
        "id": "Jzv8mcxZVjSG"
      }
    },
    {
      "cell_type": "code",
      "source": [
        "### Let's divide the data into train and Test\n",
        "x_train,x_valid,y_train,y_valid=train_test_split(\n",
        "                             np.array(reviews[\"Text\"]),\n",
        "                             np.array(reviews[\"Summary\"]),\n",
        "                             test_size=0.1,\n",
        "                             random_state=0,\n",
        "                             shuffle=True)"
      ],
      "metadata": {
        "editable": false,
        "execution": {
          "iopub.status.busy": "2022-04-13T03:54:35.175105Z",
          "iopub.execute_input": "2022-04-13T03:54:35.175595Z",
          "iopub.status.idle": "2022-04-13T03:54:35.329959Z",
          "shell.execute_reply.started": "2022-04-13T03:54:35.175557Z",
          "shell.execute_reply": "2022-04-13T03:54:35.329232Z"
        },
        "trusted": true,
        "id": "E8CUk1rlVjSG"
      },
      "execution_count": null,
      "outputs": []
    },
    {
      "cell_type": "code",
      "source": [
        "x_train.shape, x_valid.shape, y_train.shape, y_valid.shape"
      ],
      "metadata": {
        "editable": false,
        "execution": {
          "iopub.status.busy": "2022-04-13T03:54:35.334274Z",
          "iopub.execute_input": "2022-04-13T03:54:35.334485Z",
          "iopub.status.idle": "2022-04-13T03:54:35.339647Z",
          "shell.execute_reply.started": "2022-04-13T03:54:35.334460Z",
          "shell.execute_reply": "2022-04-13T03:54:35.338936Z"
        },
        "trusted": true,
        "id": "rFO_ip5UVjSG",
        "colab": {
          "base_uri": "https://localhost:8080/"
        },
        "outputId": "dda900ed-1a3a-4de5-c127-25e1c1554668"
      },
      "execution_count": null,
      "outputs": [
        {
          "output_type": "execute_result",
          "data": {
            "text/plain": [
              "((511569,), (56842,), (511569,), (56842,))"
            ]
          },
          "metadata": {},
          "execution_count": 29
        }
      ]
    },
    {
      "cell_type": "code",
      "source": [
        "def get_rare_words(text_col):\n",
        "    \n",
        "    # prepare a tokenizer on testing data\n",
        "    text_tokenizer=Tokenizer()\n",
        "    text_tokenizer.fit_on_texts(list(text_col))\n",
        "    \n",
        "    thresh=5\n",
        "    \n",
        "    cnt=0\n",
        "    tot_cnt=0\n",
        "    \n",
        "    for key,value in text_tokenizer.word_counts.items():\n",
        "        tot_cnt+=1\n",
        "        if value< thresh:  # words which occour less then thresh times\n",
        "            cnt+=1\n",
        "            \n",
        "    print(\"% of rare words in vocabulary:\",(cnt / tot_cnt) * 100)\n",
        "    \n",
        "    return cnt, tot_cnt"
      ],
      "metadata": {
        "editable": false,
        "execution": {
          "iopub.status.busy": "2022-04-13T03:54:35.340750Z",
          "iopub.execute_input": "2022-04-13T03:54:35.341514Z",
          "iopub.status.idle": "2022-04-13T03:54:35.349416Z",
          "shell.execute_reply.started": "2022-04-13T03:54:35.341474Z",
          "shell.execute_reply": "2022-04-13T03:54:35.348733Z"
        },
        "trusted": true,
        "id": "p9KfSFVXVjSH"
      },
      "execution_count": null,
      "outputs": []
    },
    {
      "cell_type": "markdown",
      "source": [
        "## Config"
      ],
      "metadata": {
        "editable": false,
        "id": "Yj5vBZnKVjSH"
      }
    },
    {
      "cell_type": "code",
      "source": [
        "# Setup some configuration parameters \n",
        "\n",
        "config = {'min_text_len':40,\n",
        "          'max_text_len':60,\n",
        "          'max_summary_len':30,\n",
        "          'latent_dim' : 300,\n",
        "          'embedding_dim' : 200}"
      ],
      "metadata": {
        "editable": false,
        "execution": {
          "iopub.status.busy": "2022-04-13T03:54:35.350550Z",
          "iopub.execute_input": "2022-04-13T03:54:35.350847Z",
          "iopub.status.idle": "2022-04-13T03:54:35.361511Z",
          "shell.execute_reply.started": "2022-04-13T03:54:35.350813Z",
          "shell.execute_reply": "2022-04-13T03:54:35.360712Z"
        },
        "trusted": true,
        "id": "7tuUkhrIVjSH"
      },
      "execution_count": null,
      "outputs": []
    },
    {
      "cell_type": "markdown",
      "source": [
        "## TOkenize the Train Dataset"
      ],
      "metadata": {
        "editable": false,
        "id": "ZZR0VvU-VjSH"
      }
    },
    {
      "cell_type": "code",
      "source": [
        "x_train_cnt, x_train_tot_cnt = get_rare_words(text_col=x_train)"
      ],
      "metadata": {
        "editable": false,
        "execution": {
          "iopub.status.busy": "2022-04-13T03:54:35.362597Z",
          "iopub.execute_input": "2022-04-13T03:54:35.362918Z",
          "iopub.status.idle": "2022-04-13T03:54:54.555381Z",
          "shell.execute_reply.started": "2022-04-13T03:54:35.362892Z",
          "shell.execute_reply": "2022-04-13T03:54:54.554492Z"
        },
        "trusted": true,
        "id": "KC8AihyoVjSH",
        "colab": {
          "base_uri": "https://localhost:8080/"
        },
        "outputId": "d87b9934-0818-4390-f186-aa1d44b765ac"
      },
      "execution_count": null,
      "outputs": [
        {
          "output_type": "stream",
          "name": "stdout",
          "text": [
            "% of rare words in vocabulary: 62.23815190495079\n"
          ]
        }
      ]
    },
    {
      "cell_type": "code",
      "source": [
        "# txt_tokenizer=Tokenizer()\n",
        "# txt_tokenizer.fit_on_texts(list(x_train[:10]))\n",
        "\n",
        "# txt_tokenizer.word_counts"
      ],
      "metadata": {
        "editable": false,
        "execution": {
          "iopub.status.busy": "2022-04-13T03:54:54.556767Z",
          "iopub.execute_input": "2022-04-13T03:54:54.557197Z",
          "iopub.status.idle": "2022-04-13T03:54:54.560615Z",
          "shell.execute_reply.started": "2022-04-13T03:54:54.557157Z",
          "shell.execute_reply": "2022-04-13T03:54:54.559704Z"
        },
        "trusted": true,
        "id": "ND-8Q-NbVjSH"
      },
      "execution_count": null,
      "outputs": []
    },
    {
      "cell_type": "code",
      "source": [
        "# Prepare a tokenizer, again -- by not considering the rare words\n",
        "x_tokenizer = Tokenizer(num_words=x_train_tot_cnt - x_train_cnt) \n",
        "x_tokenizer.fit_on_texts(list(x_train))\n",
        "\n",
        "# Convert text sequences to integer sequences \n",
        "x_tr_seq = x_tokenizer.texts_to_sequences(x_train) \n",
        "x_val_seq = x_tokenizer.texts_to_sequences(x_valid)\n",
        "\n",
        "# Pad zero upto maximum length\n",
        "x_tr = pad_sequences(x_tr_seq,  maxlen=config['max_text_len'], padding='post')\n",
        "x_val = pad_sequences(x_val_seq, maxlen=config['max_text_len'], padding='post')\n",
        "\n",
        "# Size of vocabulary (+1 for padding token)\n",
        "x_voc = x_tokenizer.num_words + 1\n",
        "\n",
        "print(\"Size of vocabulary in X = {}\".format(x_voc))"
      ],
      "metadata": {
        "editable": false,
        "execution": {
          "iopub.status.busy": "2022-04-13T03:54:54.562153Z",
          "iopub.execute_input": "2022-04-13T03:54:54.562625Z",
          "iopub.status.idle": "2022-04-13T03:55:35.964230Z",
          "shell.execute_reply.started": "2022-04-13T03:54:54.562558Z",
          "shell.execute_reply": "2022-04-13T03:55:35.963301Z"
        },
        "trusted": true,
        "id": "6hGv6t4QVjSH",
        "colab": {
          "base_uri": "https://localhost:8080/"
        },
        "outputId": "d6c925ae-474c-45e2-c691-603866bbc2d4"
      },
      "execution_count": null,
      "outputs": [
        {
          "output_type": "stream",
          "name": "stdout",
          "text": [
            "Size of vocabulary in X = 39984\n"
          ]
        }
      ]
    },
    {
      "cell_type": "markdown",
      "source": [
        "## Tokenize the validation dataset"
      ],
      "metadata": {
        "editable": false,
        "id": "xTbyDJXiVjSI"
      }
    },
    {
      "cell_type": "code",
      "source": [
        "y_train_cnt, y_train_tot_cnt = get_rare_words(text_col=y_train)"
      ],
      "metadata": {
        "editable": false,
        "execution": {
          "iopub.status.busy": "2022-04-13T03:55:35.965333Z",
          "iopub.execute_input": "2022-04-13T03:55:35.965956Z",
          "iopub.status.idle": "2022-04-13T03:55:41.934838Z",
          "shell.execute_reply.started": "2022-04-13T03:55:35.965917Z",
          "shell.execute_reply": "2022-04-13T03:55:41.933290Z"
        },
        "trusted": true,
        "id": "lVJUDmgbVjSI",
        "colab": {
          "base_uri": "https://localhost:8080/"
        },
        "outputId": "8ff119d6-9795-48bf-bde1-1d416957da43"
      },
      "execution_count": null,
      "outputs": [
        {
          "output_type": "stream",
          "name": "stdout",
          "text": [
            "% of rare words in vocabulary: 65.95439373615747\n"
          ]
        }
      ]
    },
    {
      "cell_type": "code",
      "source": [
        "# Prepare a tokenizer, again -- by not considering the rare words\n",
        "y_tokenizer = Tokenizer(num_words=y_train_tot_cnt - y_train_cnt) \n",
        "# y_tokenizer = Tokenizer(num_words=y_train_tot_cnt) \n",
        "y_tokenizer.fit_on_texts(list(y_train))\n",
        "\n",
        "# Convert text sequences to integer sequences \n",
        "y_tr_seq = y_tokenizer.texts_to_sequences(y_train) \n",
        "y_val_seq = y_tokenizer.texts_to_sequences(y_valid) \n",
        "\n",
        "# Pad zero upto maximum length\n",
        "y_tr = pad_sequences(y_tr_seq, maxlen=config['max_summary_len'], padding='post')\n",
        "y_val = pad_sequences(y_val_seq, maxlen=config['max_summary_len'], padding='post')\n",
        "\n",
        "# Size of vocabulary (+1 for padding token)\n",
        "y_voc = y_tokenizer.num_words + 1\n",
        "\n",
        "print(\"Size of vocabulary in Y = {}\".format(y_voc))"
      ],
      "metadata": {
        "editable": false,
        "execution": {
          "iopub.status.busy": "2022-04-13T03:55:41.936165Z",
          "iopub.execute_input": "2022-04-13T03:55:41.936515Z",
          "iopub.status.idle": "2022-04-13T03:55:57.711216Z",
          "shell.execute_reply.started": "2022-04-13T03:55:41.936476Z",
          "shell.execute_reply": "2022-04-13T03:55:57.709629Z"
        },
        "trusted": true,
        "id": "nBAhsneKVjSI",
        "colab": {
          "base_uri": "https://localhost:8080/"
        },
        "outputId": "36126f7c-f6e6-42a3-aeff-e5ebc79265e2"
      },
      "execution_count": null,
      "outputs": [
        {
          "output_type": "stream",
          "name": "stdout",
          "text": [
            "Size of vocabulary in Y = 10915\n"
          ]
        }
      ]
    },
    {
      "cell_type": "markdown",
      "source": [
        "# Initialize the Encoder and Decoder architecture"
      ],
      "metadata": {
        "editable": false,
        "id": "LbdW79FqVjSI"
      }
    },
    {
      "cell_type": "code",
      "source": [
        "latent_dim = 300\n",
        "embedding_dim = 200\n",
        "max_text_len = 60\n",
        "max_summary_len = 15\n",
        "\n",
        "# Encoder\n",
        "encoder_inputs = Input(shape=(max_text_len, ))\n",
        "\n",
        "# Embedding layer\n",
        "enc_emb = Embedding(x_voc, embedding_dim,\n",
        "                    trainable=True)(encoder_inputs)\n",
        "\n",
        "# Encoder LSTM 1\n",
        "encoder_lstm1 = LSTM(latent_dim, return_sequences=True,\n",
        "                     return_state=True, dropout=0.4,\n",
        "                     recurrent_dropout=0.4)\n",
        "(encoder_output1, state_h1, state_c1) = encoder_lstm1(enc_emb)\n",
        "\n",
        "# Encoder LSTM 2\n",
        "encoder_lstm2 = LSTM(latent_dim, return_sequences=True,\n",
        "                     return_state=True, dropout=0.4,\n",
        "                     recurrent_dropout=0.4)\n",
        "(encoder_output2, state_h2, state_c2) = encoder_lstm2(encoder_output1)\n",
        "\n",
        "# Encoder LSTM 3\n",
        "encoder_lstm3 = LSTM(latent_dim, return_state=True,\n",
        "                     return_sequences=True, dropout=0.4,\n",
        "                     recurrent_dropout=0.4)\n",
        "(encoder_outputs, state_h, state_c) = encoder_lstm3(encoder_output2)\n",
        "\n",
        "# Set up the decoder, using encoder_states as the initial state\n",
        "decoder_inputs = Input(shape=(None, ))\n",
        "\n",
        "# Embedding layer\n",
        "dec_emb_layer = Embedding(y_voc, embedding_dim, trainable=True)\n",
        "dec_emb = dec_emb_layer(decoder_inputs)\n",
        "\n",
        "# Decoder LSTM\n",
        "decoder_lstm = LSTM(latent_dim, return_sequences=True,\n",
        "                    return_state=True, dropout=0.4,\n",
        "                    recurrent_dropout=0.2)\n",
        "(decoder_outputs, decoder_fwd_state, decoder_back_state) = \\\n",
        "    decoder_lstm(dec_emb, initial_state=[state_h, state_c])\n",
        "\n",
        "# Dense layer\n",
        "decoder_dense = TimeDistributed(Dense(y_voc, activation='softmax'))\n",
        "decoder_outputs = decoder_dense(decoder_outputs)\n",
        "\n",
        "# Define the model\n",
        "model = Model([encoder_inputs, decoder_inputs], decoder_outputs)\n",
        "\n",
        "model.summary()"
      ],
      "metadata": {
        "editable": false,
        "execution": {
          "iopub.status.busy": "2022-04-13T03:55:57.712475Z",
          "iopub.execute_input": "2022-04-13T03:55:57.712806Z",
          "iopub.status.idle": "2022-04-13T03:56:00.574781Z",
          "shell.execute_reply.started": "2022-04-13T03:55:57.712768Z",
          "shell.execute_reply": "2022-04-13T03:56:00.574076Z"
        },
        "trusted": true,
        "id": "dcMhwnygVjSI",
        "colab": {
          "base_uri": "https://localhost:8080/"
        },
        "outputId": "f109c7cb-6d09-476e-e89f-b32654dbad7d"
      },
      "execution_count": null,
      "outputs": [
        {
          "output_type": "stream",
          "name": "stdout",
          "text": [
            "WARNING:tensorflow:Layer lstm will not use cuDNN kernels since it doesn't meet the criteria. It will use a generic GPU kernel as fallback when running on GPU.\n",
            "WARNING:tensorflow:Layer lstm_1 will not use cuDNN kernels since it doesn't meet the criteria. It will use a generic GPU kernel as fallback when running on GPU.\n",
            "WARNING:tensorflow:Layer lstm_2 will not use cuDNN kernels since it doesn't meet the criteria. It will use a generic GPU kernel as fallback when running on GPU.\n",
            "WARNING:tensorflow:Layer lstm_3 will not use cuDNN kernels since it doesn't meet the criteria. It will use a generic GPU kernel as fallback when running on GPU.\n",
            "Model: \"model\"\n",
            "__________________________________________________________________________________________________\n",
            " Layer (type)                   Output Shape         Param #     Connected to                     \n",
            "==================================================================================================\n",
            " input_1 (InputLayer)           [(None, 60)]         0           []                               \n",
            "                                                                                                  \n",
            " embedding (Embedding)          (None, 60, 200)      7996800     ['input_1[0][0]']                \n",
            "                                                                                                  \n",
            " lstm (LSTM)                    [(None, 60, 300),    601200      ['embedding[0][0]']              \n",
            "                                 (None, 300),                                                     \n",
            "                                 (None, 300)]                                                     \n",
            "                                                                                                  \n",
            " input_2 (InputLayer)           [(None, None)]       0           []                               \n",
            "                                                                                                  \n",
            " lstm_1 (LSTM)                  [(None, 60, 300),    721200      ['lstm[0][0]']                   \n",
            "                                 (None, 300),                                                     \n",
            "                                 (None, 300)]                                                     \n",
            "                                                                                                  \n",
            " embedding_1 (Embedding)        (None, None, 200)    2183000     ['input_2[0][0]']                \n",
            "                                                                                                  \n",
            " lstm_2 (LSTM)                  [(None, 60, 300),    721200      ['lstm_1[0][0]']                 \n",
            "                                 (None, 300),                                                     \n",
            "                                 (None, 300)]                                                     \n",
            "                                                                                                  \n",
            " lstm_3 (LSTM)                  [(None, None, 300),  601200      ['embedding_1[0][0]',            \n",
            "                                 (None, 300),                     'lstm_2[0][1]',                 \n",
            "                                 (None, 300)]                     'lstm_2[0][2]']                 \n",
            "                                                                                                  \n",
            " time_distributed (TimeDistribu  (None, None, 10915)  3285415    ['lstm_3[0][0]']                 \n",
            " ted)                                                                                             \n",
            "                                                                                                  \n",
            "==================================================================================================\n",
            "Total params: 16,110,015\n",
            "Trainable params: 16,110,015\n",
            "Non-trainable params: 0\n",
            "__________________________________________________________________________________________________\n"
          ]
        }
      ]
    },
    {
      "cell_type": "markdown",
      "source": [
        "## Compile and Train the Model"
      ],
      "metadata": {
        "editable": false,
        "id": "UtLhspV2VjSJ"
      }
    },
    {
      "cell_type": "code",
      "source": [
        "platform='collab'\n",
        "model.compile(optimizer='Adam',loss='sparse_categorical_crossentropy',\n",
        "             metrics=['accuracy'])\n",
        "\n",
        "if platform == 'collab':\n",
        "    model_name=\"/content/drive/MyDrive/model_15_epoch.h5\"\n",
        "elif platform == 'kaggle':\n",
        "    model_name=\"./model_15_epoch.h5\"\n",
        "else:\n",
        "    model_name=\"./model_15_epoch{epoch:03d}.h5\"\n",
        "    \n",
        "save_model=tf.keras.callbacks.ModelCheckpoint(filepath=model_name,\n",
        "                                              save_weights_only=True,\n",
        "                                             save_best_only=True,\n",
        "                                             verbose=1)\n",
        "es=EarlyStopping(monitor='val_loss',\n",
        "                mode='min',\n",
        "                verbose=1,\n",
        "                patience=10)"
      ],
      "metadata": {
        "editable": false,
        "execution": {
          "iopub.status.busy": "2022-04-13T03:56:00.575907Z",
          "iopub.execute_input": "2022-04-13T03:56:00.576139Z",
          "iopub.status.idle": "2022-04-13T03:56:00.592641Z",
          "shell.execute_reply.started": "2022-04-13T03:56:00.576105Z",
          "shell.execute_reply": "2022-04-13T03:56:00.591944Z"
        },
        "trusted": true,
        "id": "-1QZ2v4LVjSJ"
      },
      "execution_count": null,
      "outputs": []
    },
    {
      "cell_type": "code",
      "source": [
        "history = model.fit(\n",
        "    [x_tr, y_tr[:, :-1]],\n",
        "    y_tr.reshape(y_tr.shape[0], y_tr.shape[1], 1)[:, 1:],\n",
        "    epochs=15,\n",
        "    callbacks=[es, save_model],\n",
        "    batch_size=256,\n",
        "    validation_data=([x_val, y_val[:, :-1]],\n",
        "                     y_val.reshape(y_val.shape[0], y_val.shape[1], 1)[:, 1:]),\n",
        "    )"
      ],
      "metadata": {
        "editable": false,
        "execution": {
          "iopub.status.busy": "2022-04-13T03:56:00.594323Z",
          "iopub.execute_input": "2022-04-13T03:56:00.595341Z",
          "iopub.status.idle": "2022-04-13T06:37:30.796111Z",
          "shell.execute_reply.started": "2022-04-13T03:56:00.595302Z",
          "shell.execute_reply": "2022-04-13T06:37:30.795250Z"
        },
        "trusted": true,
        "id": "MqVe-NDeVjSJ",
        "colab": {
          "base_uri": "https://localhost:8080/"
        },
        "outputId": "203848ef-76f0-46ee-9921-634d61b68442"
      },
      "execution_count": null,
      "outputs": [
        {
          "output_type": "stream",
          "name": "stdout",
          "text": [
            "Epoch 1/15\n",
            "1999/1999 [==============================] - ETA: 0s - loss: 0.9673 - accuracy: 0.8641\n",
            "Epoch 1: val_loss improved from inf to 0.81776, saving model to /content/drive/MyDrive/model_15_epoch.h5\n",
            "1999/1999 [==============================] - 1920s 955ms/step - loss: 0.9673 - accuracy: 0.8641 - val_loss: 0.8178 - val_accuracy: 0.8732\n",
            "Epoch 2/15\n",
            "1999/1999 [==============================] - ETA: 0s - loss: 0.7832 - accuracy: 0.8760\n",
            "Epoch 2: val_loss improved from 0.81776 to 0.75773, saving model to /content/drive/MyDrive/model_15_epoch.h5\n",
            "1999/1999 [==============================] - 1906s 954ms/step - loss: 0.7832 - accuracy: 0.8760 - val_loss: 0.7577 - val_accuracy: 0.8781\n",
            "Epoch 3/15\n",
            "1999/1999 [==============================] - ETA: 0s - loss: 0.7356 - accuracy: 0.8794\n",
            "Epoch 3: val_loss improved from 0.75773 to 0.71613, saving model to /content/drive/MyDrive/model_15_epoch.h5\n",
            "1999/1999 [==============================] - 1894s 947ms/step - loss: 0.7356 - accuracy: 0.8794 - val_loss: 0.7161 - val_accuracy: 0.8812\n",
            "Epoch 4/15\n",
            "1999/1999 [==============================] - ETA: 0s - loss: 0.6919 - accuracy: 0.8825\n",
            "Epoch 4: val_loss improved from 0.71613 to 0.68323, saving model to /content/drive/MyDrive/model_15_epoch.h5\n",
            "1999/1999 [==============================] - 1904s 952ms/step - loss: 0.6919 - accuracy: 0.8825 - val_loss: 0.6832 - val_accuracy: 0.8837\n",
            "Epoch 5/15\n",
            "1999/1999 [==============================] - ETA: 0s - loss: 0.6605 - accuracy: 0.8849\n",
            "Epoch 5: val_loss improved from 0.68323 to 0.65643, saving model to /content/drive/MyDrive/model_15_epoch.h5\n",
            "1999/1999 [==============================] - 1893s 947ms/step - loss: 0.6605 - accuracy: 0.8849 - val_loss: 0.6564 - val_accuracy: 0.8862\n",
            "Epoch 6/15\n",
            "1999/1999 [==============================] - ETA: 0s - loss: 0.6322 - accuracy: 0.8872\n",
            "Epoch 6: val_loss improved from 0.65643 to 0.63468, saving model to /content/drive/MyDrive/model_15_epoch.h5\n",
            "1999/1999 [==============================] - 1886s 943ms/step - loss: 0.6322 - accuracy: 0.8872 - val_loss: 0.6347 - val_accuracy: 0.8882\n",
            "Epoch 7/15\n",
            "1999/1999 [==============================] - ETA: 0s - loss: 0.6077 - accuracy: 0.8894\n",
            "Epoch 7: val_loss improved from 0.63468 to 0.61562, saving model to /content/drive/MyDrive/model_15_epoch.h5\n",
            "1999/1999 [==============================] - 1886s 944ms/step - loss: 0.6077 - accuracy: 0.8894 - val_loss: 0.6156 - val_accuracy: 0.8903\n",
            "Epoch 8/15\n",
            "1999/1999 [==============================] - ETA: 0s - loss: 0.5861 - accuracy: 0.8915\n",
            "Epoch 8: val_loss improved from 0.61562 to 0.59992, saving model to /content/drive/MyDrive/model_15_epoch.h5\n",
            "1999/1999 [==============================] - 1883s 942ms/step - loss: 0.5861 - accuracy: 0.8915 - val_loss: 0.5999 - val_accuracy: 0.8923\n",
            "Epoch 9/15\n",
            "1999/1999 [==============================] - ETA: 0s - loss: 0.5669 - accuracy: 0.8936\n",
            "Epoch 9: val_loss improved from 0.59992 to 0.58714, saving model to /content/drive/MyDrive/model_15_epoch.h5\n",
            "1999/1999 [==============================] - 1886s 943ms/step - loss: 0.5669 - accuracy: 0.8936 - val_loss: 0.5871 - val_accuracy: 0.8939\n",
            "Epoch 10/15\n",
            "1999/1999 [==============================] - ETA: 0s - loss: 0.5495 - accuracy: 0.8955\n",
            "Epoch 10: val_loss improved from 0.58714 to 0.57618, saving model to /content/drive/MyDrive/model_15_epoch.h5\n",
            "1999/1999 [==============================] - 1891s 946ms/step - loss: 0.5495 - accuracy: 0.8955 - val_loss: 0.5762 - val_accuracy: 0.8956\n",
            "Epoch 11/15\n",
            "1999/1999 [==============================] - ETA: 0s - loss: 0.5343 - accuracy: 0.8974\n",
            "Epoch 11: val_loss improved from 0.57618 to 0.56673, saving model to /content/drive/MyDrive/model_15_epoch.h5\n",
            "1999/1999 [==============================] - 1892s 947ms/step - loss: 0.5343 - accuracy: 0.8974 - val_loss: 0.5667 - val_accuracy: 0.8972\n",
            "Epoch 12/15\n",
            "1999/1999 [==============================] - ETA: 0s - loss: 0.5207 - accuracy: 0.8991\n",
            "Epoch 12: val_loss improved from 0.56673 to 0.55926, saving model to /content/drive/MyDrive/model_15_epoch.h5\n",
            "1999/1999 [==============================] - 1894s 948ms/step - loss: 0.5207 - accuracy: 0.8991 - val_loss: 0.5593 - val_accuracy: 0.8987\n",
            "Epoch 13/15\n",
            "1999/1999 [==============================] - ETA: 0s - loss: 0.5083 - accuracy: 0.9008\n",
            "Epoch 13: val_loss improved from 0.55926 to 0.55252, saving model to /content/drive/MyDrive/model_15_epoch.h5\n",
            "1999/1999 [==============================] - 1891s 946ms/step - loss: 0.5083 - accuracy: 0.9008 - val_loss: 0.5525 - val_accuracy: 0.9000\n",
            "Epoch 14/15\n",
            "1999/1999 [==============================] - ETA: 0s - loss: 0.4974 - accuracy: 0.9023\n",
            "Epoch 14: val_loss improved from 0.55252 to 0.54664, saving model to /content/drive/MyDrive/model_15_epoch.h5\n",
            "1999/1999 [==============================] - 1896s 948ms/step - loss: 0.4974 - accuracy: 0.9023 - val_loss: 0.5466 - val_accuracy: 0.9013\n",
            "Epoch 15/15\n",
            "1999/1999 [==============================] - ETA: 0s - loss: 0.4875 - accuracy: 0.9038\n",
            "Epoch 15: val_loss improved from 0.54664 to 0.54327, saving model to /content/drive/MyDrive/model_15_epoch.h5\n",
            "1999/1999 [==============================] - 1889s 945ms/step - loss: 0.4875 - accuracy: 0.9038 - val_loss: 0.5433 - val_accuracy: 0.9022\n"
          ]
        }
      ]
    },
    {
      "cell_type": "markdown",
      "source": [
        "# Plot the train and validation loss"
      ],
      "metadata": {
        "editable": false,
        "id": "BEjKa-i5VjSJ"
      }
    },
    {
      "cell_type": "code",
      "source": [
        "import matplotlib.pyplot as plt\n",
        "\n",
        "\n",
        "plt.plot(history.history['loss'],label='train')\n",
        "plt.plot(history.history['val_loss'],label='test')\n",
        "plt.legend()\n",
        "plt.show()"
      ],
      "metadata": {
        "editable": false,
        "execution": {
          "iopub.status.busy": "2022-04-13T06:37:30.797953Z",
          "iopub.execute_input": "2022-04-13T06:37:30.798242Z",
          "iopub.status.idle": "2022-04-13T06:37:31.014125Z",
          "shell.execute_reply.started": "2022-04-13T06:37:30.798187Z",
          "shell.execute_reply": "2022-04-13T06:37:31.013435Z"
        },
        "trusted": true,
        "id": "RdZV3W4QVjSJ",
        "colab": {
          "base_uri": "https://localhost:8080/",
          "height": 265
        },
        "outputId": "163cdfcd-740d-45b6-b3b3-4f47e236fc58"
      },
      "execution_count": null,
      "outputs": [
        {
          "output_type": "display_data",
          "data": {
            "text/plain": [
              "<Figure size 432x288 with 1 Axes>"
            ],
            "image/png": "[encoded data removed]"
          },
          "metadata": {
            "needs_background": "light"
          }
        }
      ]
    },
    {
      "cell_type": "markdown",
      "source": [
        "## Load the saved model"
      ],
      "metadata": {
        "editable": false,
        "id": "2xFISzY2VjSK"
      }
    },
    {
      "cell_type": "code",
      "source": [
        "model.load_weights('/content/drive/MyDrive/model_15_epoch.h5')"
      ],
      "metadata": {
        "editable": false,
        "execution": {
          "iopub.status.busy": "2022-04-13T06:37:31.015486Z",
          "iopub.execute_input": "2022-04-13T06:37:31.015732Z",
          "iopub.status.idle": "2022-04-13T06:37:31.092446Z",
          "shell.execute_reply.started": "2022-04-13T06:37:31.015698Z",
          "shell.execute_reply": "2022-04-13T06:37:31.091610Z"
        },
        "trusted": true,
        "id": "J3pOBIOhVjSK"
      },
      "execution_count": null,
      "outputs": []
    },
    {
      "cell_type": "markdown",
      "source": [
        "# Reverse encode the index to their tokens"
      ],
      "metadata": {
        "editable": false,
        "id": "JVGNJPBoVjSK"
      }
    },
    {
      "cell_type": "code",
      "source": [
        "reverse_source_word_index = x_tokenizer.index_word\n",
        "reverse_target_word_index = y_tokenizer.index_word\n",
        "target_word_index = y_tokenizer.word_index"
      ],
      "metadata": {
        "editable": false,
        "execution": {
          "iopub.status.busy": "2022-04-13T06:37:31.093784Z",
          "iopub.execute_input": "2022-04-13T06:37:31.094040Z",
          "iopub.status.idle": "2022-04-13T06:37:31.098658Z",
          "shell.execute_reply.started": "2022-04-13T06:37:31.094006Z",
          "shell.execute_reply": "2022-04-13T06:37:31.097713Z"
        },
        "trusted": true,
        "id": "m6Dbz8_RVjSK"
      },
      "execution_count": null,
      "outputs": []
    },
    {
      "cell_type": "markdown",
      "source": [
        "# Create the Decoder Inference architecture"
      ],
      "metadata": {
        "editable": false,
        "id": "5RAfOYmzVjSK"
      }
    },
    {
      "cell_type": "code",
      "source": [
        "# #Inference Model\n",
        "\n",
        "# Encode the input sequence to get the feature vector\n",
        "encoder_model=Model(inputs=encoder_inputs,outputs=[encoder_outputs,state_h,state_c])\n",
        "\n",
        "# Decoder setup\n",
        "\n",
        "# Below tensors will hold the states of the previous time step\n",
        "decoder_state_input_h=Input(shape=(latent_dim,))\n",
        "decoder_state_input_c=Input(shape=(latent_dim,))\n",
        "decoder_hidden_state_input=Input(shape=(max_text_len,latent_dim))\n",
        "\n",
        "# Get the embeddings of the decoder sequence\n",
        "dec_emb2=dec_emb_layer(decoder_inputs)\n",
        "\n",
        "#  To predict the next word in the sequence, set the initial states to the states from the previous time step\n",
        "(decoder_outputs2,state_h2,state_c2)=decoder_lstm(dec_emb2,\n",
        "                                                  initial_state=[decoder_state_input_h, decoder_state_input_c])\n",
        "\n",
        "# A dense softmax layer to generate prob dist. over the target vocabulary\n",
        "decoder_outputs2 = decoder_dense(decoder_outputs2)\n",
        "\n",
        "# Final decoder model\n",
        "decoder_model = Model([decoder_inputs] + [decoder_hidden_state_input,\n",
        "                      decoder_state_input_h, decoder_state_input_c],\n",
        "                      [decoder_outputs2] + [state_h2, state_c2])"
      ],
      "metadata": {
        "editable": false,
        "execution": {
          "iopub.status.busy": "2022-04-13T06:37:31.100194Z",
          "iopub.execute_input": "2022-04-13T06:37:31.100740Z",
          "iopub.status.idle": "2022-04-13T06:37:31.216737Z",
          "shell.execute_reply.started": "2022-04-13T06:37:31.100702Z",
          "shell.execute_reply": "2022-04-13T06:37:31.216029Z"
        },
        "trusted": true,
        "id": "Er0yoFoPVjSL"
      },
      "execution_count": null,
      "outputs": []
    },
    {
      "cell_type": "code",
      "source": [
        "def decode_sequence(input_seq):\n",
        "\n",
        "    # Encode the input as state vectors.\n",
        "    (e_out, e_h, e_c) = encoder_model.predict(input_seq)\n",
        "\n",
        "    # Generate empty target sequence of length 1\n",
        "    target_seq = np.zeros((1, 1))\n",
        "\n",
        "    # Populate the first word of target sequence with the start word.\n",
        "    target_seq[0, 0] = target_word_index['start']\n",
        "\n",
        "    stop_condition = False\n",
        "    decoded_sentence = ''\n",
        "\n",
        "    while not stop_condition:\n",
        "        (output_tokens, h, c) = decoder_model.predict([target_seq]\n",
        "                + [e_out, e_h, e_c])\n",
        "\n",
        "        # Sample a token\n",
        "        sampled_token_index = np.argmax(output_tokens[0, -1, :])\n",
        "        sampled_token = reverse_target_word_index[sampled_token_index]\n",
        "\n",
        "        if sampled_token != 'end':\n",
        "            decoded_sentence += ' ' + sampled_token\n",
        "\n",
        "        # Exit condition: either hit max length or find the stop word.\n",
        "        if sampled_token == 'end' or len(decoded_sentence.split()) \\\n",
        "            >= max_summary_len - 1:\n",
        "            stop_condition = True\n",
        "\n",
        "        # Update the target sequence (of length 1)\n",
        "        target_seq = np.zeros((1, 1))\n",
        "        target_seq[0, 0] = sampled_token_index\n",
        "\n",
        "        # Update internal states\n",
        "        (e_h, e_c) = (h, c)\n",
        "\n",
        "    return decoded_sentence"
      ],
      "metadata": {
        "editable": false,
        "execution": {
          "iopub.status.busy": "2022-04-13T06:37:31.218121Z",
          "iopub.execute_input": "2022-04-13T06:37:31.218384Z",
          "iopub.status.idle": "2022-04-13T06:37:31.226963Z",
          "shell.execute_reply.started": "2022-04-13T06:37:31.218351Z",
          "shell.execute_reply": "2022-04-13T06:37:31.225945Z"
        },
        "trusted": true,
        "id": "OI0Jd6KpVjSL"
      },
      "execution_count": null,
      "outputs": []
    },
    {
      "cell_type": "code",
      "source": [
        "# To convert sequence to text\n",
        "def seq2text(input_seq):\n",
        "    newString = ''\n",
        "    for i in input_seq:\n",
        "        if i != 0:\n",
        "            newString = newString + reverse_source_word_index[i] + ' '\n",
        "\n",
        "    return newString\n",
        "\n",
        "# To convert sequence to summary\n",
        "def seq2summary(input_seq):\n",
        "    newString = ''\n",
        "    for i in input_seq:\n",
        "        if (i != 0) and (i != target_word_index['start']) and (i != target_word_index['end']):\n",
        "            newString = newString + reverse_target_word_index[i] + ' '\n",
        "\n",
        "    return newString"
      ],
      "metadata": {
        "editable": false,
        "execution": {
          "iopub.status.busy": "2022-04-13T06:37:31.228375Z",
          "iopub.execute_input": "2022-04-13T06:37:31.228948Z",
          "iopub.status.idle": "2022-04-13T06:37:31.239261Z",
          "shell.execute_reply.started": "2022-04-13T06:37:31.228818Z",
          "shell.execute_reply": "2022-04-13T06:37:31.238402Z"
        },
        "trusted": true,
        "id": "E7KUNl3PVjSL"
      },
      "execution_count": null,
      "outputs": []
    },
    {
      "cell_type": "markdown",
      "source": [
        "# Prediction Summary"
      ],
      "metadata": {
        "editable": false,
        "id": "_PZQlf9bVjSL"
      }
    },
    {
      "cell_type": "code",
      "source": [
        "actual = []\n",
        "predicted = []\n",
        "for i in range(0, 50):\n",
        "    print ('Review:', seq2text(x_tr[i]))\n",
        "    \n",
        "    actual.append(seq2summary(y_tr[i]))\n",
        "    print ('Original summary:', actual[-1])\n",
        "    \n",
        "    predicted.append(decode_sequence(x_tr[i].reshape(1, config['max_text_len'])))\n",
        "    print ('Predicted summary:', predicted[-1])\n",
        "    print()\n",
        "    \n",
        "prediction_df = pd.DataFrame({'Actual':actual, 'Predicted':predicted})\n",
        "prediction_df.head(10)"
      ],
      "metadata": {
        "editable": false,
        "execution": {
          "iopub.status.busy": "2022-04-13T07:18:50.367143Z",
          "iopub.execute_input": "2022-04-13T07:18:50.367789Z",
          "iopub.status.idle": "2022-04-13T07:18:50.405956Z",
          "shell.execute_reply.started": "2022-04-13T07:18:50.367751Z",
          "shell.execute_reply": "2022-04-13T07:18:50.404963Z"
        },
        "trusted": true,
        "id": "9bY8proaVjSL",
        "colab": {
          "base_uri": "https://localhost:8080/",
          "height": 1000
        },
        "outputId": "84147687-68bc-4c23-b0a9-66d8342874ae"
      },
      "execution_count": null,
      "outputs": [
        {
          "output_type": "stream",
          "name": "stdout",
          "text": [
            "Review: recently celebrated 40th birthday compadres treated 3 days gourmet home cooking opened jar truffle salt first night three us forever hooked put everything greek fries swiss raclette fondue american steaks wrong flavor distinctive way powering used moderation perfect compliment meal even put ice cream ask truffle lovers salt might well powdered heroin first timers delightful treat go disappointed \n",
            "Original summary: crack for foodies \n",
            "Predicted summary:  the ultimate snack\n",
            "\n",
            "Review: good toffee flavor really suitable baking unless another sweetener accompanies like raw honey real maple syrup good yogurt probably would good coffee \n",
            "Original summary: yummy \n",
            "Predicted summary:  good stuff\n",
            "\n",
            "Review: first experience black mustard seeds idea supposed taste know like one new favorite dishes cauliflower potatoes mustard seeds along indian spices make especially good \n",
            "Original summary: first time with this product \n",
            "Predicted summary:  great flavor\n",
            "\n",
            "Review: sugar still floaters definitely coffee palm sugar anyone else experience noticed know supposed healthier 5 would like sugar little bugs extra minerals mind maybe got bad bag intention bad mouth company would want someone tell knew eating drinking little bugs contacted company yet noticed sure morning also looked bag see others one caked sugar crystals hard notice unless really look \n",
            "Original summary: tastes good but there is bugs in mine \n",
            "Predicted summary:  not as good as the original\n",
            "\n",
            "Review: purchasing product large liquid form pleasure find powder \n",
            "Original summary: delicious \n",
            "Predicted summary:  good product\n",
            "\n",
            "Review: tea good think requires milk full bodied bit malty thus appropriately named 4 5 minute brew suggested \n",
            "Original summary: full bodied brew \n",
            "Predicted summary:  good strong tea\n",
            "\n",
            "Review: vegan vegetarian issue eating vegan friendly foods picked dr mcdougall miso ramen somewhat low sodium know lack sodium product general really tasty eatable yes going order eat \n",
            "Original summary: ugh \n",
            "Predicted summary:  ehhh\n",
            "\n",
            "Review: seems silly offering review favorite candy bar also like big hunk honestly whenever go store look see look often thrilled find amazon 24 count last long whole family loves look share chocolate coated goodness try look \n",
            "Original summary: look candy bar \n",
            "Predicted summary:  my favorite candy bar\n",
            "\n",
            "Review: got go hcg diet much flavor tried chocolate english toffee flavor difficult find stores much expensive stores worth different flavor buying couple buy different flavor ones come packages 2 better deal find friend split \n",
            "Original summary: not much flavor \n",
            "Predicted summary:  great taste\n",
            "\n",
            "Review: \n",
            "Original summary: instant yeast \n",
            "Predicted summary:  great product\n",
            "\n",
            "Review: bought med size mini dachshund keep happy go hours crate know loves somthing little dance bolts crate waiting nutrident chew leave gooey messes carpet come apart easily however one never found evidence ever even one highly recomend vet says teeth tip top shape gets one day \n",
            "Original summary: crate happy no mess \n",
            "Predicted summary:  fun game\n",
            "\n",
            "Review: buy sun butter local organic store spend money silly reason hard find spread without alot added sugar sweeteners smooth tastes great kids family love \n",
            "Original summary: finally something without sugar \n",
            "Predicted summary:  great product\n",
            "\n",
            "Review: bread flour make basic recipe book artisan bread 5 minutes day higher protein content flour increase amount water 3 cups 3 1 2 cups necessary artisan recipe looking wet dough really great crust crumb bake bread covered enameled cast iron skillet dutch oven heat tolerant parchment paper 450 f 30 minutes covered 15 minutes uncovered flour sweet flavor really enjoy \n",
            "Original summary: great flour with wonderful flavor \n",
            "Predicted summary:  great bread flour\n",
            "\n",
            "Review: told himalayan salt much better shopping around found best deal amazon came heavy resealable bag works great salt mill would buy recommend friends \n",
            "Original summary: love this salt \n",
            "Predicted summary:  great salt\n",
            "\n",
            "Review: seems always around low carb dessert case sugar free fall madly love jell eat congratulate moderate intake dessert particular jell peach variety since water main component somewhat refreshing palate give 4 stars healthy besides one boring edible items known mankind buy hey replace key lime pie dessert bowl peach jell basically winning fight obesity caloric 4 stars clean cut reputation \n",
            "Original summary: jell o is jell o is jell o \n",
            "Predicted summary:  not for me\n",
            "\n",
            "Review: gum zylitol kills germs mouth use eating cannot brush tastes great harmful ingredients buy \n",
            "Original summary: clean teeth gum \n",
            "Predicted summary:  best gum ever\n",
            "\n",
            "Review: purchased two types original salt vinegar original tasted burned tan brown color vinegar sour cases trashed amazon handled credit asap purchased grocery stores airports never quality problem pricey jumped great price amazon offered product amazon got seconds \n",
            "Original summary: quality not what you find at local retailers \n",
            "Predicted summary:  not the same as the grocery store\n",
            "\n",
            "Review: made lavender scones ice cream far really good lavender could bit cleaned bad \n",
            "Original summary: culinary lavender \n",
            "Predicted summary:  good tea\n",
            "\n",
            "Review: use spice time steaks turkey etc tried brands thrown away one true hickory smoked flavor \n",
            "Original summary: best in the business \n",
            "Predicted summary:  not the best\n",
            "\n",
            "Review: good brand mexican spiced cocoa better brands expensive well mexican spiced cocoa soooo much better traditional hot cocoa \n",
            "Original summary: i love mexican spiced cocoa \n",
            "Predicted summary:  good cocoa\n",
            "\n",
            "Review: get good taste company give estimation much use much bottle makes mind price find hard give product 3 stars four dollars would think steal easily give another star estimate jar make upwards 2 3 gallons maybe used sparingly 9 95 sorry back old ways using touch stevia packets sweeten water topping whichever citrus fruits sale squeeze lemon lime orange flavor \n",
            "Original summary: good product but pricy \n",
            "Predicted summary:  good but not great\n",
            "\n",
            "Review: improved would earned like 3 4 star rating decided give another try noticed new packaging proclaiming even tastier beyond delicious go looking flavor right great treat anyone let alone us cutting cutting back gluten right density moistness chewiness like perfect brownie true get 12 box kind small ration go box week box reach really hungry make great quick fix though \n",
            "Original summary: definitely chocolate \n",
            "Predicted summary:  delicious\n",
            "\n",
            "Review: enjoy earl grey tea replaced favorite drink dessert mild husband like earl grey loves lighter version would recommend tea drinker \n",
            "Original summary: great tea for the evening \n",
            "Predicted summary:  stash earl grey tea\n",
            "\n",
            "Review: dont mind spending money try go ahead im glad bought really delicious treat able get little cash hand would make great gifts though due fun size br br pros br delicious br cons br tiny like 7 8 bucks br br taste 9 5 10 br appearance 7 10 br value 4 10 br gift power 8 10 like fruitcakes \n",
            "Original summary: delicious but tiny \n",
            "Predicted summary:  yummy\n",
            "\n",
            "Review: exact drink many espresso shops sell costs 1 per serving make compared 4 espresso stand good negative fattening \n",
            "Original summary: excellent product very tasty \n",
            "Predicted summary:  great espresso\n",
            "\n",
            "Review: absolutely wonderful fresh flavorful ordered four different artichoke products different companies far best much better get olive bar grocery store perfect size snacking cooking get 4 trays fairly reasonable price going order several plus sign automatic delivery option eating artichokes advice nutritionist help liver taste good \n",
            "Original summary: wow they are great \n",
            "Predicted summary:  best dates ever\n",
            "\n",
            "Review: dog loved large bone actually lasted 2 weeks gone \n",
            "Original summary: big bone \n",
            "Predicted summary:  great product\n",
            "\n",
            "Review: kids love brand cannot eat kraft longer trying annie neighbor kids love well \n",
            "Original summary: yummy mac and cheese \n",
            "Predicted summary:  kids love it\n",
            "\n",
            "Review: around found top class blend good replacement impressions lavazza whole bean espressos br br pienaroma high acid low aroma fruity medium roast mild low caffeine br super crema high acid medium roast mild low caffeine br grand espresso low acid high aroma medium roast spicy finish high caffeine br top class moderate acid aroma caffeine medium dark roast spicy finish \n",
            "Original summary: great \n",
            "Predicted summary:  good espresso\n",
            "\n",
            "Review: best friend introduced product time ago really love sprinkle anything even bake sans guilt regular pb fact pb keep house \n",
            "Original summary: all the yum of pb but fewer calories \n",
            "Predicted summary:  best peanut butter ever\n",
            "\n",
            "Review: dog loves peanut butter really didnt like particular treat given zuke beef treats liked much thought would try peanut butter tolerates one day giving glucomasine part thats go back beef bag runs heads still like zukes products tho \n",
            "Original summary: dog didnt like it \n",
            "Predicted summary:  dog didnt like it\n",
            "\n",
            "Review: tastes like plastic coconut water concentrate natural flavors coconut water go back buying mine grocery store pulp comes glass bottle \n",
            "Original summary: plastic \n",
            "Predicted summary:  coconut water\n",
            "\n",
            "Review: say bam flavor buzz totally emeril drink enormous amounts coffee daily trucker far best tried quick k cup format cups work fine grounds price right \n",
            "Original summary: best k cup coffee i have tried \n",
            "Predicted summary:  best k cup coffee\n",
            "\n",
            "Review: got christmas addicted ordered another two boxes coffee tastes great gives aroma fills whole house gotten great reviews coffee since started using new coffee machine \n",
            "Original summary: addicted \n",
            "Predicted summary:  great coffee\n",
            "\n",
            "Review: need keep dogs mouth gums clean healthy easily job dog looks forward treat \n",
            "Original summary: doggy chews \n",
            "Predicted summary:  great treat\n",
            "\n",
            "Review: bravo bravo atmosphere movie spectacular share gloomy moments hilarious moments made movie success forever \n",
            "Original summary: hilarious the the of time lol \n",
            "Predicted summary:  beetlejuice\n",
            "\n",
            "Review: stopped buying beef jerky avoid preservatives nitrates nitrites etc thinking found one without purchased product reading words natural product description arrived found sodium nitrite listed package also might mention blurb texas rancher looking something better expecting advisory bag beef sourced usa uruguay new zealand oh well guy dream br br tastes pretty good close eyes \n",
            "Original summary: must be fine print in the contract \n",
            "Predicted summary:  not worth it\n",
            "\n",
            "Review: pringles others family really like thai really good much different barbecue chips sprinkle ginger flavor buffalo bleu awesome absolutely best chips ever eaten funny thing bleu ones thought would probably regret getting awesome buy br br would suggest though get get smallest bag size else family done finish bag every day smallest bag might expensive per ounce probably last longer \n",
            "Original summary: buffalo bleu \n",
            "Predicted summary:  buffalo bleu\n",
            "\n",
            "Review: omg got thinking looked yummy wow smell nasty taste worst taste leaves speechless \n",
            "Original summary: gross \n",
            "Predicted summary:  gross\n",
            "\n",
            "Review: kids like wrapped pretty little pricy thing quick \n",
            "Original summary: great present but a little pricey \n",
            "Predicted summary:  kids love them\n",
            "\n",
            "Review: salt pig looks great standing counter keeps salt seasoning covered use opening little small size lost star \n",
            "Original summary: worthwhile item \n",
            "Predicted summary:  great salt\n",
            "\n",
            "Review: best moroccan style green mint tea ever reasonably priced little dispenser containers well like mild minty tea little caffeine highly recommend \n",
            "Original summary: delicious tea \n",
            "Predicted summary:  great tea\n",
            "\n",
            "Review: effects one piece gum enough leave mouth feeling cool clean cardamom flavor fairly strong might make difference much like gum parents used cardamom lot like taste br br minor complaint gum becomes somewhat stringy chewing long time since flavor really last long time almost always happens br br really good long lasting gum br br highly recommended br br cfh \n",
            "Original summary: really good chewing gum highly recommended \n",
            "Predicted summary:  good gum\n",
            "\n",
            "Review: love bar taste great preservatives great children instead candy bar made natural ingredients \n",
            "Original summary: wonderful for a natural snack for children \n",
            "Predicted summary:  great taste\n",
            "\n",
            "Review: fl oz 240 ml br amount per serving br calories 70 fat cal 0 br daily value br total fat 0g 0 br trans fat 0g br sodium 0mg 0 br total carbohydrate 19g 6 br sugars 18g br protein 0g br br ingredients filtered water organic cane sugar organic black tea natural flavor citric acid ascorbic acid vitamin c \n",
            "Original summary: organic lol \n",
            "Predicted summary:  a good alternative to regular soy sauce\n",
            "\n",
            "Review: appreciate nutritional value product honestly say taste good get chewy chunks floating tea maybe acquired taste \n",
            "Original summary: very different taste and texture \n",
            "Predicted summary:  not as good as the original\n",
            "\n",
            "Review: tasted many hot sauces perfect starts bright flavor mellows smooth spicy bite end hot though right sent friends soon order \n",
            "Original summary: best hot sauce ever \n",
            "Predicted summary:  great hot sauce\n",
            "\n",
            "Review: cats diet super high quality dry food day split pouch whiskas purrfectly fish chicken br br love able find much nutritional value particular wet food real bits fish chicken pouch sometimes chicken pouches almost make want taste rich gravy flaky bits white meat smell like thanksgiving tasted yet update review \n",
            "Original summary: puurrrfect \n",
            "Predicted summary:  my cats love this\n",
            "\n",
            "Review: put fries broiled veges stir fry asian cooking buy 24 oz go \n",
            "Original summary: love this stuff \n",
            "Predicted summary:  great for cooking\n",
            "\n",
            "Review: really liked tea tastes smooth herby without bitterness steeped long also steeped second time instruction indicate still produce good cup tea br br price opinion unbeatable fan adagio teas price sencha way expensive one \n",
            "Original summary: good and affordable tea \n",
            "Predicted summary:  good tea\n",
            "\n"
          ]
        },
        {
          "output_type": "execute_result",
          "data": {
            "text/plain": [
              "                                   Actual                     Predicted\n",
              "0                      crack for foodies             the ultimate snack\n",
              "1                                  yummy                     good stuff\n",
              "2           first time with this product                   great flavor\n",
              "3  tastes good but there is bugs in mine    not as good as the original\n",
              "4                              delicious                   good product\n",
              "5                       full bodied brew                good strong tea\n",
              "6                                    ugh                           ehhh\n",
              "7                         look candy bar          my favorite candy bar\n",
              "8                        not much flavor                    great taste\n",
              "9                          instant yeast                  great product"
            ],
            "text/html": [
              "\n",
              "  <div id=\"df-3d25948c-5648-4d38-b99f-b05fa7693fe0\">\n",
              "    <div class=\"colab-df-container\">\n",
              "      <div>\n",
              "<style scoped>\n",
              "    .dataframe tbody tr th:only-of-type {\n",
              "        vertical-align: middle;\n",
              "    }\n",
              "\n",
              "    .dataframe tbody tr th {\n",
              "        vertical-align: top;\n",
              "    }\n",
              "\n",
              "    .dataframe thead th {\n",
              "        text-align: right;\n",
              "    }\n",
              "</style>\n",
              "<table border=\"1\" class=\"dataframe\">\n",
              "  <thead>\n",
              "    <tr style=\"text-align: right;\">\n",
              "      <th></th>\n",
              "      <th>Actual</th>\n",
              "      <th>Predicted</th>\n",
              "    </tr>\n",
              "  </thead>\n",
              "  <tbody>\n",
              "    <tr>\n",
              "      <th>0</th>\n",
              "      <td>crack for foodies</td>\n",
              "      <td>the ultimate snack</td>\n",
              "    </tr>\n",
              "    <tr>\n",
              "      <th>1</th>\n",
              "      <td>yummy</td>\n",
              "      <td>good stuff</td>\n",
              "    </tr>\n",
              "    <tr>\n",
              "      <th>2</th>\n",
              "      <td>first time with this product</td>\n",
              "      <td>great flavor</td>\n",
              "    </tr>\n",
              "    <tr>\n",
              "      <th>3</th>\n",
              "      <td>tastes good but there is bugs in mine</td>\n",
              "      <td>not as good as the original</td>\n",
              "    </tr>\n",
              "    <tr>\n",
              "      <th>4</th>\n",
              "      <td>delicious</td>\n",
              "      <td>good product</td>\n",
              "    </tr>\n",
              "    <tr>\n",
              "      <th>5</th>\n",
              "      <td>full bodied brew</td>\n",
              "      <td>good strong tea</td>\n",
              "    </tr>\n",
              "    <tr>\n",
              "      <th>6</th>\n",
              "      <td>ugh</td>\n",
              "      <td>ehhh</td>\n",
              "    </tr>\n",
              "    <tr>\n",
              "      <th>7</th>\n",
              "      <td>look candy bar</td>\n",
              "      <td>my favorite candy bar</td>\n",
              "    </tr>\n",
              "    <tr>\n",
              "      <th>8</th>\n",
              "      <td>not much flavor</td>\n",
              "      <td>great taste</td>\n",
              "    </tr>\n",
              "    <tr>\n",
              "      <th>9</th>\n",
              "      <td>instant yeast</td>\n",
              "      <td>great product</td>\n",
              "    </tr>\n",
              "  </tbody>\n",
              "</table>\n",
              "</div>\n",
              "      <button class=\"colab-df-convert\" onclick=\"convertToInteractive('df-3d25948c-5648-4d38-b99f-b05fa7693fe0')\"\n",
              "              title=\"Convert this dataframe to an interactive table.\"\n",
              "              style=\"display:none;\">\n",
              "        \n",
              "  <svg xmlns=\"http://www.w3.org/2000/svg\" height=\"24px\"viewBox=\"0 0 24 24\"\n",
              "       width=\"24px\">\n",
              "    <path d=\"M0 0h24v24H0V0z\" fill=\"none\"/>\n",
              "    <path d=\"M18.56 5.44l.94 2.06.94-2.06 2.06-.94-2.06-.94-.94-2.06-.94 2.06-2.06.94zm-11 1L8.5 8.5l.94-2.06 2.06-.94-2.06-.94L8.5 2.5l-.94 2.06-2.06.94zm10 10l.94 2.06.94-2.06 2.06-.94-2.06-.94-.94-2.06-.94 2.06-2.06.94z\"/><path d=\"M17.41 7.96l-1.37-1.37c-.4-.4-.92-.59-1.43-.59-.52 0-1.04.2-1.43.59L10.3 9.45l-7.72 7.72c-.78.78-.78 2.05 0 2.83L4 21.41c.39.39.9.59 1.41.59.51 0 1.02-.2 1.41-.59l7.78-7.78 2.81-2.81c.8-.78.8-2.07 0-2.86zM5.41 20L4 18.59l7.72-7.72 1.47 1.35L5.41 20z\"/>\n",
              "  </svg>\n",
              "      </button>\n",
              "      \n",
              "  <style>\n",
              "    .colab-df-container {\n",
              "      display:flex;\n",
              "      flex-wrap:wrap;\n",
              "      gap: 12px;\n",
              "    }\n",
              "\n",
              "    .colab-df-convert {\n",
              "      background-color: #E8F0FE;\n",
              "      border: none;\n",
              "      border-radius: 50%;\n",
              "      cursor: pointer;\n",
              "      display: none;\n",
              "      fill: #1967D2;\n",
              "      height: 32px;\n",
              "      padding: 0 0 0 0;\n",
              "      width: 32px;\n",
              "    }\n",
              "\n",
              "    .colab-df-convert:hover {\n",
              "      background-color: #E2EBFA;\n",
              "      box-shadow: 0px 1px 2px rgba(60, 64, 67, 0.3), 0px 1px 3px 1px rgba(60, 64, 67, 0.15);\n",
              "      fill: #174EA6;\n",
              "    }\n",
              "\n",
              "    [theme=dark] .colab-df-convert {\n",
              "      background-color: #3B4455;\n",
              "      fill: #D2E3FC;\n",
              "    }\n",
              "\n",
              "    [theme=dark] .colab-df-convert:hover {\n",
              "      background-color: #434B5C;\n",
              "      box-shadow: 0px 1px 3px 1px rgba(0, 0, 0, 0.15);\n",
              "      filter: drop-shadow(0px 1px 2px rgba(0, 0, 0, 0.3));\n",
              "      fill: #FFFFFF;\n",
              "    }\n",
              "  </style>\n",
              "\n",
              "      <script>\n",
              "        const buttonEl =\n",
              "          document.querySelector('#df-3d25948c-5648-4d38-b99f-b05fa7693fe0 button.colab-df-convert');\n",
              "        buttonEl.style.display =\n",
              "          google.colab.kernel.accessAllowed ? 'block' : 'none';\n",
              "\n",
              "        async function convertToInteractive(key) {\n",
              "          const element = document.querySelector('#df-3d25948c-5648-4d38-b99f-b05fa7693fe0');\n",
              "          const dataTable =\n",
              "            await google.colab.kernel.invokeFunction('convertToInteractive',\n",
              "                                                     [key], {});\n",
              "          if (!dataTable) return;\n",
              "\n",
              "          const docLinkHtml = 'Like what you see? Visit the ' +\n",
              "            '<a target=\"_blank\" href=https://colab.research.google.com/notebooks/data_table.ipynb>data table notebook</a>'\n",
              "            + ' to learn more about interactive tables.';\n",
              "          element.innerHTML = '';\n",
              "          dataTable['output_type'] = 'display_data';\n",
              "          await google.colab.output.renderOutput(dataTable, element);\n",
              "          const docLink = document.createElement('div');\n",
              "          docLink.innerHTML = docLinkHtml;\n",
              "          element.appendChild(docLink);\n",
              "        }\n",
              "      </script>\n",
              "    </div>\n",
              "  </div>\n",
              "  "
            ]
          },
          "metadata": {},
          "execution_count": 46
        }
      ]
    },
    {
      "cell_type": "code",
      "source": [
        ""
      ],
      "metadata": {
        "editable": false,
        "id": "zmrqMi0HVjSM"
      },
      "execution_count": null,
      "outputs": []
    }
  ]
}